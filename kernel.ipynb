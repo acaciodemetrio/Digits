{
  "cells": [
    {
      "metadata": {
        "colab": {
          "base_uri": "https://localhost:8080/",
          "height": 34
        },
        "colab_type": "code",
        "id": "FixzSGnQmoac",
        "outputId": "1f3ab035-7303-4913-dd10-950852d4c2f2",
        "trusted": true,
        "_uuid": "013249e67e1152b22d71c3fe8db4ec55e1bfb643"
      },
      "cell_type": "code",
      "source": "%matplotlib inline\n\nimport pandas as pd\nimport numpy as np\n\nfrom collections import Counter\nfrom sklearn.model_selection import train_test_split\n\nfrom keras.utils.np_utils import to_categorical\nfrom keras.models import Sequential\nfrom keras.layers import Dense, Dropout, Flatten, Conv2D, MaxPool2D, BatchNormalization\nfrom keras.models import model_from_json\n\nimport warnings\nwarnings.filterwarnings(\"ignore\")\n\n# My seed\n\nseed = 42",
      "execution_count": null,
      "outputs": []
    },
    {
      "metadata": {
        "colab": {},
        "colab_type": "code",
        "id": "CKPsrUUlQl5j",
        "trusted": true,
        "_uuid": "d5e52270d41ceee7b2ccde3f9597cf62d3841a4c"
      },
      "cell_type": "code",
      "source": "df_train = pd.read_csv('../input/train.csv')",
      "execution_count": null,
      "outputs": []
    },
    {
      "metadata": {
        "colab_type": "text",
        "id": "K9D2H1wJRLrR",
        "_uuid": "76284c63c515f0d2da81fb9c812d6ad505b490a2"
      },
      "cell_type": "markdown",
      "source": "### Splitting the dataset"
    },
    {
      "metadata": {
        "colab": {
          "base_uri": "https://localhost:8080/",
          "height": 52
        },
        "colab_type": "code",
        "id": "L1ShW20EQr0M",
        "outputId": "ddf1b6da-06d8-488e-b47a-3ef1c231124a",
        "trusted": true,
        "_uuid": "bfd4233ab5d1dfe4de6e585535a645d9b06cfeeb"
      },
      "cell_type": "code",
      "source": "X_train = df_train.drop(['label'], axis=1)\ny_train = df_train['label']\n\n# Free memory space\n\ndel df_train\n\nprint('Shape of X_train:', X_train.shape)\nprint('Shape of y_train:', y_train.shape)",
      "execution_count": null,
      "outputs": []
    },
    {
      "metadata": {
        "colab_type": "text",
        "id": "6j6yJtj5SIuK",
        "_uuid": "6d4eff51394471109f31205c62f5b4168b0cebfa"
      },
      "cell_type": "markdown",
      "source": "### Normalizing the values of training and test"
    },
    {
      "metadata": {
        "colab": {},
        "colab_type": "code",
        "id": "SfkmFge5SJHt",
        "trusted": true,
        "_uuid": "81134a2002d2d244c873ec3a7950c333fc08a26c"
      },
      "cell_type": "code",
      "source": "X_train = X_train / 255",
      "execution_count": null,
      "outputs": []
    },
    {
      "metadata": {
        "colab_type": "text",
        "id": "mODMR1dLSR9t",
        "_uuid": "9c97475ab4bf94fa498a64be1a2b18cde995c446"
      },
      "cell_type": "markdown",
      "source": "### Reshape the images in 3 dimensions to use with Keras"
    },
    {
      "metadata": {
        "colab": {
          "base_uri": "https://localhost:8080/",
          "height": 34
        },
        "colab_type": "code",
        "id": "d9fq_86pSSiy",
        "outputId": "412f9fa9-ad20-4a91-fbe4-33cddf035cae",
        "trusted": true,
        "_uuid": "abf950aab484be888fe283b63e614e07b69e84e7"
      },
      "cell_type": "code",
      "source": "X_train = X_train.values.reshape(-1,28,28,1) # (height = 28px, width = 28px , canal = 1)\nprint('Shape of X_train:', X_train.shape)",
      "execution_count": null,
      "outputs": []
    },
    {
      "metadata": {
        "colab_type": "text",
        "id": "7X5vx9qOSdEF",
        "_uuid": "3531e8fa932441468a815044f62b424f3d768360"
      },
      "cell_type": "markdown",
      "source": "### Converting y values (labels) to categorical values"
    },
    {
      "metadata": {
        "colab": {
          "base_uri": "https://localhost:8080/",
          "height": 139
        },
        "colab_type": "code",
        "id": "KW4URT0SSddz",
        "outputId": "9c1d1fe3-9ff0-41da-de55-53e8e373ab8e",
        "trusted": true,
        "_uuid": "b98a8527b7dce0c6716a2312af4e8d1c0e4fe735"
      },
      "cell_type": "code",
      "source": "# One Hot Categories\n\ny_train = to_categorical(y_train, num_classes = 10)\ny_train",
      "execution_count": null,
      "outputs": []
    },
    {
      "metadata": {
        "colab_type": "text",
        "id": "-4-yC1WnS0WB",
        "_uuid": "e413d74d07728791f00716d12af6216c678da9c4"
      },
      "cell_type": "markdown",
      "source": "### Function to create neural networks to be evalueted"
    },
    {
      "metadata": {
        "colab": {},
        "colab_type": "code",
        "id": "kPTN6fqsTAYb",
        "trusted": true,
        "_uuid": "cb9a65c77cc788d60c4b5f8e158e2f5929cbf816"
      },
      "cell_type": "code",
      "source": "def baseline_model(layers = 1, \n                   filter_l1 = 32, \n                   filter_l2 = 64, \n                   filter_l3 = 128,\n                   kernel_size_l1 = 5,\n                   kernel_size_l2 = 3,\n                   kernel_size_l3 = 3,\n                   pool_size_l1 = 2,\n                   pool_size_l2 = 2,\n                   activation_l1 = 'relu',\n                   activation_l2 = 'relu',\n                   activation_l3 = 'relu',\n                   optimizer = 'Adamax',\n                   dense = 256, \n                   dropout_l1 = 0.25, \n                   dropout_l2 = 0.25, \n                   dropout_l3 = 0.4, \n                   batchNormalization = True):\n                          \n    # Create baseline\n    \n    baseline = Sequential()\n\n    # First group\n    #---------------------------------------------------------------------------------------------------\n        \n    baseline.add(Conv2D(filters = filter_l1, \n                        kernel_size = (kernel_size_l1, kernel_size_l1), \n                        padding = 'Same', \n                        activation = activation_l1,\n                        input_shape = (28, 28, 1)))\n    \n    if batchNormalization:\n      baseline.add(BatchNormalization())\n      \n    if (layers >= 2):\n      for i in range(layers-1):\n        baseline.add(Conv2D(filters = filter_l1, \n                            kernel_size = (kernel_size_l1, kernel_size_l1), \n                            padding = 'Same', \n                            activation = activation_l1))\n        \n        if batchNormalization:\n          baseline.add(BatchNormalization())\n      \n    baseline.add(MaxPool2D(pool_size=(pool_size_l1, pool_size_l1)))\n    baseline.add(Dropout(dropout_l1))\n    \n    # Second group\n    #---------------------------------------------------------------------------------------------------\n    \n    baseline.add(Conv2D(filters = filter_l2, \n                        kernel_size = (kernel_size_l2, kernel_size_l2), \n                        padding = 'Same', \n                        activation = activation_l2))\n    \n    if batchNormalization:\n      baseline.add(BatchNormalization())\n      \n    if (layers >= 2):\n      for i in range(layers-1):\n        baseline.add(Conv2D(filters = filter_l2, \n                            kernel_size = (kernel_size_l2, kernel_size_l2),\n                            padding = 'Same', \n                            activation = activation_l2))\n        \n        if batchNormalization:\n          baseline.add(BatchNormalization())\n    \n    baseline.add(MaxPool2D(pool_size=(pool_size_l2, pool_size_l2), strides=(pool_size_l2, pool_size_l2)))\n    baseline.add(Dropout(dropout_l2))\n    \n    # Third group\n    #---------------------------------------------------------------------------------------------------\n    \n    baseline.add(Conv2D(filters = filter_l3, \n                        kernel_size = (kernel_size_l3, kernel_size_l3), \n                        padding = 'Same', \n                        activation = activation_l3))\n    \n    if batchNormalization:\n      baseline.add(BatchNormalization())\n      \n    baseline.add(Flatten())\n    baseline.add(Dense(dense, activation = \"relu\"))\n    baseline.add(Dropout(dropout_l3))\n    \n    baseline.add(Dense(10, activation = \"softmax\"))\n    \n    # Compile the baseline including the optimizer and evaluating the performance of the baseline by accuracy\n    \n    baseline.compile(optimizer = optimizer , loss = \"categorical_crossentropy\", metrics=[\"accuracy\"])\n    \n    return baseline",
      "execution_count": null,
      "outputs": []
    },
    {
      "metadata": {
        "colab_type": "text",
        "id": "D_jbc38cZ4AR",
        "_uuid": "5e1debf863a54e929cadbbcd3437832985299242"
      },
      "cell_type": "markdown",
      "source": "### Testing the models"
    },
    {
      "metadata": {
        "colab": {},
        "colab_type": "code",
        "id": "Uuq9gnZEPqMc",
        "trusted": true,
        "_uuid": "e6fafe271292cab5d8038a59e70fc8e3495dbf27"
      },
      "cell_type": "code",
      "source": "from sklearn.model_selection import GridSearchCV\nfrom keras.wrappers.scikit_learn import KerasClassifier",
      "execution_count": null,
      "outputs": []
    },
    {
      "metadata": {
        "colab": {},
        "colab_type": "code",
        "id": "KFziKX3UZ5ma",
        "trusted": true,
        "_uuid": "637ed81fbd49e6a4a0fb80ba955a6c3ee09680b0"
      },
      "cell_type": "code",
      "source": "epochs = 1\nbatch_size = 90",
      "execution_count": null,
      "outputs": []
    },
    {
      "metadata": {
        "colab": {},
        "colab_type": "code",
        "id": "SiXoRqYrf0sO",
        "trusted": true,
        "_uuid": "ec46a6e818ab8248f9d246a8b9fc399dfafadec4"
      },
      "cell_type": "code",
      "source": "X_train_aux, X_test_aux, y_train_aux, y_test_aux = train_test_split(X_train, y_train, test_size = 0.1)",
      "execution_count": null,
      "outputs": []
    },
    {
      "metadata": {
        "colab": {
          "base_uri": "https://localhost:8080/",
          "height": 347
        },
        "colab_type": "code",
        "id": "g_9nrr63aIed",
        "outputId": "58a8eca6-69bc-47f7-f12c-66cda1ce4346",
        "trusted": true,
        "_uuid": "df413063a6c3d293645b8a136efa07551f05bcba"
      },
      "cell_type": "code",
      "source": "################################################################################\n# Test\n################################################################################\n             \nmodel = KerasClassifier(build_fn=baseline_model, epochs=epochs, batch_size=batch_size, verbose=1)\n\n# Define the grid search parameters\n\n# First group to be evaluated\n\nlayers = [1, 2, 3]\nfilter_l1 = [16, 32, 64]\nfilter_l2 = [32, 64, 128]\nfilter_l3 = [64, 128, 256]\n\n# Default parameters from baseline\n\nkernel_size_l1 = [5]\nkernel_size_l2 = [3]\nkernel_size_l3 = [3]\nactivation_l1 = ['relu']\nactivation_l2 = ['relu']\nactivation_l3 = ['relu']\npool_size_l1 = [2]\npool_size_l2 = [2]\noptimizer = ['Adamax']\ndense = [256]\ndropout_l1 = [0.25]\ndropout_l2 = [0.25]\ndropout_l3 = [0.4]\nbatchNormalization = [True]\n\n# First test\n\nparam_grid = dict(layers=layers,\n                 filter_l1=filter_l1,\n                 filter_l2=filter_l2,\n                 filter_l3=filter_l3,\n                 kernel_size_l1=kernel_size_l1,\n                 kernel_size_l2=kernel_size_l2,\n                 kernel_size_l3=kernel_size_l3,\n                 pool_size_l1=pool_size_l1,\n                 pool_size_l2=pool_size_l2,\n                 activation_l1=activation_l1,\n                 activation_l2=activation_l2,\n                 activation_l3=activation_l3,\n                 optimizer=optimizer,\n                 dense=dense,\n                 dropout_l1=dropout_l1,\n                 dropout_l2=dropout_l2,\n                 dropout_l3=dropout_l3,\n                 batchNormalization=batchNormalization)\n\nprint('Parameters: ', param_grid)",
      "execution_count": null,
      "outputs": []
    },
    {
      "metadata": {
        "colab": {
          "base_uri": "https://localhost:8080/",
          "height": 5383
        },
        "colab_type": "code",
        "id": "n0iJm84OUlJD",
        "outputId": "e32fbcbc-bbdc-4616-c8d0-f0131570418b",
        "trusted": true,
        "_uuid": "3f27d1f612b445c2283c87b3c134a141c99cfe7c"
      },
      "cell_type": "code",
      "source": "grid = GridSearchCV(estimator=model, param_grid=param_grid, n_jobs=1)\ngrid_result = grid.fit(X_train, y_train)",
      "execution_count": null,
      "outputs": []
    },
    {
      "metadata": {
        "colab": {},
        "colab_type": "code",
        "id": "77WF3DEcTliy",
        "trusted": false,
        "_uuid": "b94044461bab0e61c89dc21ca3bc37e8b1d7116c"
      },
      "cell_type": "code",
      "source": "# Summarize results\n\nprint('-----------------------------------------------------------------------')\nprint(\"Best: %f using %s\" % (grid_result.best_score_, grid_result.best_params_))\nprint('-----------------------------------------------------------------------')",
      "execution_count": null,
      "outputs": []
    },
    {
      "metadata": {
        "colab": {},
        "colab_type": "code",
        "id": "Yl45hpI4XvjI",
        "trusted": false,
        "_uuid": "d82fb67e9de43411e4041e36698ac6b1d42f9bfe"
      },
      "cell_type": "code",
      "source": "# Getting the best parameters from previous evaluation\n\nlayers = [grid_result.best_params_['layers']]\nfilter_l1 = [grid_result.best_params_['filter_l1']]\nfilter_l2 = [grid_result.best_params_['filter_l2']]\nfilter_l3 = [grid_result.best_params_['filter_l3']]",
      "execution_count": null,
      "outputs": []
    },
    {
      "metadata": {
        "trusted": true,
        "_uuid": "9b5ee540bc052e9bdde2a49807b759f3b1f46de6"
      },
      "cell_type": "code",
      "source": "# Define the grid search parameters\n\n# Second group to be evaluated\n\nkernel_size_l1 = [3, 4, 5]\nkernel_size_l2 = [3, 4, 5]\nkernel_size_l3 = [3, 4, 5]\nactivation_l1 = ['relu', 'sigmoid']\nactivation_l2 = ['relu', 'sigmoid']\nactivation_l3 = ['relu', 'sigmoid']\n\n# Default parameters from baseline\n\npool_size_l1 = [2]\npool_size_l2 = [2]\noptimizer = ['Adamax']\ndense = [256]\ndropout_l1 = [0.25]\ndropout_l2 = [0.25]\ndropout_l3 = [0.4]\nbatchNormalization = [True]\n\n# Second test\n\nparam_grid = dict(layers=layers,\n                 filter_l1=filter_l1,\n                 filter_l2=filter_l2,\n                 filter_l3=filter_l3,\n                 kernel_size_l1=kernel_size_l1,\n                 kernel_size_l2=kernel_size_l2,\n                 kernel_size_l3=kernel_size_l3,\n                 pool_size_l1=pool_size_l1,\n                 pool_size_l2=pool_size_l2,\n                 activation_l1=activation_l1,\n                 activation_l2=activation_l2,\n                 activation_l3=activation_l3,\n                 optimizer=optimizer,\n                 dense=dense,\n                 dropout_l1=dropout_l1,\n                 dropout_l2=dropout_l2,\n                 dropout_l3=dropout_l3,\n                 batchNormalization=batchNormalization)\n\nprint('Parameters: ', param_grid)",
      "execution_count": null,
      "outputs": []
    },
    {
      "metadata": {
        "trusted": true,
        "_uuid": "fd824f20fd43675cb322f6473578bef33b005f43"
      },
      "cell_type": "code",
      "source": "grid = GridSearchCV(estimator=model, param_grid=param_grid, n_jobs=1)\ngrid_result = grid.fit(X_train, y_train)",
      "execution_count": null,
      "outputs": []
    },
    {
      "metadata": {
        "trusted": true,
        "_uuid": "734d7a95d7df84040f4bcb61201f6df7e197777d"
      },
      "cell_type": "code",
      "source": "# Summarize results\n\nprint('-----------------------------------------------------------------------')\nprint(\"Best: %f using %s\" % (grid_result.best_score_, grid_result.best_params_))\nprint('-----------------------------------------------------------------------')",
      "execution_count": null,
      "outputs": []
    },
    {
      "metadata": {
        "trusted": true,
        "_uuid": "8e08d70f8b8ab8695879158cec9febde584f29d2"
      },
      "cell_type": "code",
      "source": "# Getting the best parameters from previous evaluation\n\nkernel_size_l1 = [grid_result.best_params_['kernel_size_l1']]\nkernel_size_l3 = [grid_result.best_params_['kernel_size_l2']]\nkernel_size_l3 = [grid_result.best_params_['kernel_size_l3']]\nactivation_l1 = [grid_result.best_params_['activation_l1']]\nactivation_l2 = [grid_result.best_params_['activation_l2']]\nactivation_l3 = [grid_result.best_params_['activation_l3']]",
      "execution_count": null,
      "outputs": []
    },
    {
      "metadata": {
        "trusted": true,
        "_uuid": "88f42a41e4b9d85712fdb26e71064cff48be21bc"
      },
      "cell_type": "code",
      "source": "# Define the grid search parameters\n\n# Third group to be evaluated\n\npool_size_l1 = [2, 3, 4]\npool_size_l2 = [2, 3, 4]\ndense = [128, 256]\n\n# Default parameters from baseline\n\noptimizer = ['Adamax']\ndropout_l1 = [0.25]\ndropout_l2 = [0.25]\ndropout_l3 = [0.4]\nbatchNormalization = [True]\n\n# Third test\n\nparam_grid = dict(layers=layers,\n                 filter_l1=filter_l1,\n                 filter_l2=filter_l2,\n                 filter_l3=filter_l3,\n                 kernel_size_l1=kernel_size_l1,\n                 kernel_size_l2=kernel_size_l2,\n                 kernel_size_l3=kernel_size_l3,\n                 pool_size_l1=pool_size_l1,\n                 pool_size_l2=pool_size_l2,\n                 activation_l1=activation_l1,\n                 activation_l2=activation_l2,\n                 activation_l3=activation_l3,\n                 optimizer=optimizer,\n                 dense=dense,\n                 dropout_l1=dropout_l1,\n                 dropout_l2=dropout_l2,\n                 dropout_l3=dropout_l3,\n                 batchNormalization=batchNormalization)\n\nprint('Parameters: ', param_grid)",
      "execution_count": null,
      "outputs": []
    },
    {
      "metadata": {
        "trusted": true,
        "_uuid": "8d862b47d941fa9ef333a14883cd79bbeb504304"
      },
      "cell_type": "code",
      "source": "grid = GridSearchCV(estimator=model, param_grid=param_grid, n_jobs=1)\ngrid_result = grid.fit(X_train, y_train)",
      "execution_count": null,
      "outputs": []
    },
    {
      "metadata": {
        "trusted": true,
        "_uuid": "28b424acea0c12e6031191c7d03487ab149e94d1"
      },
      "cell_type": "code",
      "source": "# Summarize results\n\nprint('-----------------------------------------------------------------------')\nprint(\"Best: %f using %s\" % (grid_result.best_score_, grid_result.best_params_))\nprint('-----------------------------------------------------------------------')",
      "execution_count": null,
      "outputs": []
    },
    {
      "metadata": {
        "trusted": true,
        "_uuid": "61ec0ba0bec7dc00893dd0d33e105d0841890c12"
      },
      "cell_type": "code",
      "source": "# Getting the best parameters from previous evaluation\n\npool_size_l1 = [grid_result.best_params_['pool_size_l1']]\npool_size_l2 = [grid_result.best_params_['pool_size_l2']]\ndense = [grid_result.best_params_['dense']]",
      "execution_count": null,
      "outputs": []
    },
    {
      "metadata": {
        "trusted": true,
        "_uuid": "824639509b6dc4831cca6331a72a248654ce1c0f"
      },
      "cell_type": "code",
      "source": "# Define the grid search parameters\n\n# Forth group to be evaluated\n\noptimizer = ['Adamax', 'RMSProp']\ndropout_l1 = [0.25, 0.4, 0.5]\ndropout_l2 = [0.25, 0.4, 0.5]\ndropout_l3 = [0.25, 0.4, 0.5]\nbatchNormalization = [True]\n\n# Forth test\n\nparam_grid = dict(layers=layers,\n                 filter_l1=filter_l1,\n                 filter_l2=filter_l2,\n                 filter_l3=filter_l3,\n                 kernel_size_l1=kernel_size_l1,\n                 kernel_size_l2=kernel_size_l2,\n                 kernel_size_l3=kernel_size_l3,\n                 pool_size_l1=pool_size_l1,\n                 pool_size_l2=pool_size_l2,\n                 activation_l1=activation_l1,\n                 activation_l2=activation_l2,\n                 activation_l3=activation_l3,\n                 optimizer=optimizer,\n                 dense=dense,\n                 dropout_l1=dropout_l1,\n                 dropout_l2=dropout_l2,\n                 dropout_l3=dropout_l3,\n                 batchNormalization=batchNormalization)\n\nprint('Parameters: ', param_grid)",
      "execution_count": null,
      "outputs": []
    },
    {
      "metadata": {
        "trusted": true,
        "_uuid": "0b53b2d79f6f3b2c59ff18b0e31df1c2a0770270"
      },
      "cell_type": "code",
      "source": "grid = GridSearchCV(estimator=model, param_grid=param_grid, n_jobs=1)\ngrid_result = grid.fit(X_train, y_train)",
      "execution_count": null,
      "outputs": []
    },
    {
      "metadata": {
        "trusted": true,
        "_uuid": "7d356367e0ddd9471fcbf39393340db223327633"
      },
      "cell_type": "code",
      "source": "# Summarize results\n\nprint('-----------------------------------------------------------------------')\nprint(\"Best: %f using %s\" % (grid_result.best_score_, grid_result.best_params_))\nprint('-----------------------------------------------------------------------')",
      "execution_count": null,
      "outputs": []
    }
  ],
  "metadata": {
    "accelerator": "GPU",
    "colab": {
      "collapsed_sections": [],
      "name": "TestCNN_v1.ipynb",
      "provenance": [],
      "toc_visible": true,
      "version": "0.3.2"
    },
    "kernelspec": {
      "display_name": "Python 3",
      "language": "python",
      "name": "python3"
    },
    "language_info": {
      "name": "python",
      "version": "3.6.6",
      "mimetype": "text/x-python",
      "codemirror_mode": {
        "name": "ipython",
        "version": 3
      },
      "pygments_lexer": "ipython3",
      "nbconvert_exporter": "python",
      "file_extension": ".py"
    }
  },
  "nbformat": 4,
  "nbformat_minor": 1
}