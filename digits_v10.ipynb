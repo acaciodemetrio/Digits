{
  "nbformat": 4,
  "nbformat_minor": 0,
  "metadata": {
    "colab": {
      "name": "digits_v10.ipynb",
      "version": "0.3.2",
      "provenance": [],
      "collapsed_sections": [],
      "toc_visible": true
    },
    "kernelspec": {
      "name": "python3",
      "display_name": "Python 3"
    },
    "accelerator": "GPU"
  },
  "cells": [
    {
      "metadata": {
        "colab_type": "code",
        "id": "qM8J82HXHM62",
        "outputId": "65d2c2d3-acf7-4ba8-c48f-b88557dd3a32",
        "colab": {
          "base_uri": "https://localhost:8080/",
          "height": 211
        }
      },
      "cell_type": "code",
      "source": [
        "!pip install imblearn\n",
        "!pip install numpy\n",
        "!pip install sklearn"
      ],
      "execution_count": 1,
      "outputs": [
        {
          "output_type": "stream",
          "text": [
            "Requirement already satisfied: imblearn in /usr/local/lib/python3.6/dist-packages (0.0)\n",
            "Requirement already satisfied: imbalanced-learn in /usr/local/lib/python3.6/dist-packages (from imblearn) (0.4.2)\n",
            "Requirement already satisfied: numpy>=1.8.2 in /usr/local/lib/python3.6/dist-packages (from imbalanced-learn->imblearn) (1.14.6)\n",
            "Requirement already satisfied: scikit-learn>=0.20 in /usr/local/lib/python3.6/dist-packages (from imbalanced-learn->imblearn) (0.20.0)\n",
            "Requirement already satisfied: scipy>=0.13.3 in /usr/local/lib/python3.6/dist-packages (from imbalanced-learn->imblearn) (0.19.1)\n",
            "Requirement already satisfied: numpy in /usr/local/lib/python3.6/dist-packages (1.14.6)\n",
            "Requirement already satisfied: sklearn in /usr/local/lib/python3.6/dist-packages (0.0)\n",
            "Requirement already satisfied: scikit-learn in /usr/local/lib/python3.6/dist-packages (from sklearn) (0.20.0)\n",
            "Requirement already satisfied: scipy>=0.13.3 in /usr/local/lib/python3.6/dist-packages (from scikit-learn->sklearn) (0.19.1)\n",
            "Requirement already satisfied: numpy>=1.8.2 in /usr/local/lib/python3.6/dist-packages (from scikit-learn->sklearn) (1.14.6)\n"
          ],
          "name": "stdout"
        }
      ]
    },
    {
      "metadata": {
        "id": "iPQCOQHHppTi",
        "colab_type": "code",
        "colab": {
          "base_uri": "https://localhost:8080/",
          "height": 34
        },
        "outputId": "7ebbbb1e-a7cb-41d4-ee59-4365b47f72d8"
      },
      "cell_type": "code",
      "source": [
        "%matplotlib inline\n",
        "\n",
        "import pandas as pd\n",
        "import numpy as np\n",
        "\n",
        "from collections import Counter\n",
        "from sklearn.model_selection import train_test_split\n",
        "\n",
        "from keras.utils.np_utils import to_categorical\n",
        "from keras.models import Sequential\n",
        "from keras.layers import Dense, Dropout, Flatten, Conv2D, MaxPool2D, BatchNormalization\n",
        "from keras.optimizers import RMSprop\n",
        "from keras.preprocessing.image import ImageDataGenerator\n",
        "from keras.callbacks import ReduceLROnPlateau\n",
        "\n",
        "from keras.models import model_from_json\n",
        "\n",
        "import warnings\n",
        "warnings.filterwarnings(\"ignore\")\n",
        "\n",
        "from imblearn.over_sampling import ADASYN\n",
        "\n",
        "import io\n",
        "from google.colab import files\n",
        "\n",
        "# My seed\n",
        "\n",
        "seed = 42"
      ],
      "execution_count": 2,
      "outputs": [
        {
          "output_type": "stream",
          "text": [
            "Using TensorFlow backend.\n"
          ],
          "name": "stderr"
        }
      ]
    },
    {
      "metadata": {
        "colab_type": "code",
        "id": "kChFXF-CJhe3",
        "outputId": "a76d009d-bfb3-432f-f554-7adaf0178ee2",
        "colab": {
          "resources": {
            "http://localhost:8080/nbextensions/google.colab/files.js": {
              "data": "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",
              "ok": true,
              "headers": [
                [
                  "content-type",
                  "application/javascript"
                ]
              ],
              "status": 200,
              "status_text": "OK"
            }
          },
          "base_uri": "https://localhost:8080/",
          "height": 114
        }
      },
      "cell_type": "code",
      "source": [
        "uploaded = files.upload()"
      ],
      "execution_count": 3,
      "outputs": [
        {
          "output_type": "display_data",
          "data": {
            "text/html": [
              "\n",
              "     <input type=\"file\" id=\"files-5d55c6ae-6061-4ad4-86d9-321ec27610fa\" name=\"files[]\" multiple disabled />\n",
              "     <output id=\"result-5d55c6ae-6061-4ad4-86d9-321ec27610fa\">\n",
              "      Upload widget is only available when the cell has been executed in the\n",
              "      current browser session. Please rerun this cell to enable.\n",
              "      </output>\n",
              "      <script src=\"/nbextensions/google.colab/files.js\"></script> "
            ],
            "text/plain": [
              "<IPython.core.display.HTML object>"
            ]
          },
          "metadata": {
            "tags": []
          }
        },
        {
          "output_type": "stream",
          "text": [
            "Saving train.csv to train.csv\n",
            "Saving test.csv to test.csv\n"
          ],
          "name": "stdout"
        }
      ]
    },
    {
      "metadata": {
        "colab_type": "text",
        "id": "TQD_ssbnHM7A"
      },
      "cell_type": "markdown",
      "source": [
        "### Loading the training and test dataset"
      ]
    },
    {
      "metadata": {
        "colab_type": "code",
        "id": "RqDoVsC9HM7D",
        "colab": {}
      },
      "cell_type": "code",
      "source": [
        "df_train = pd.read_csv(io.StringIO(uploaded['train.csv'].decode('utf-8')))\n",
        "df_test  = pd.read_csv(io.StringIO(uploaded['test.csv'].decode('utf-8')))"
      ],
      "execution_count": 0,
      "outputs": []
    },
    {
      "metadata": {
        "colab_type": "code",
        "id": "94QDTFGlHM7K",
        "outputId": "b766be33-e3c2-4696-fcb4-5c35c8e64c30",
        "colab": {
          "base_uri": "https://localhost:8080/",
          "height": 104
        }
      },
      "cell_type": "code",
      "source": [
        "df_train.info()"
      ],
      "execution_count": 5,
      "outputs": [
        {
          "output_type": "stream",
          "text": [
            "<class 'pandas.core.frame.DataFrame'>\n",
            "RangeIndex: 42000 entries, 0 to 41999\n",
            "Columns: 785 entries, label to pixel783\n",
            "dtypes: int64(785)\n",
            "memory usage: 251.5 MB\n"
          ],
          "name": "stdout"
        }
      ]
    },
    {
      "metadata": {
        "colab_type": "code",
        "id": "IJeAI_2UHM7V",
        "outputId": "c8360c93-a32e-4aa8-a830-ee2e9eb01c58",
        "colab": {
          "base_uri": "https://localhost:8080/",
          "height": 104
        }
      },
      "cell_type": "code",
      "source": [
        "df_test.info()"
      ],
      "execution_count": 6,
      "outputs": [
        {
          "output_type": "stream",
          "text": [
            "<class 'pandas.core.frame.DataFrame'>\n",
            "RangeIndex: 28000 entries, 0 to 27999\n",
            "Columns: 784 entries, pixel0 to pixel783\n",
            "dtypes: int64(784)\n",
            "memory usage: 167.5 MB\n"
          ],
          "name": "stdout"
        }
      ]
    },
    {
      "metadata": {
        "colab_type": "text",
        "id": "xY3FuCv-HM7c"
      },
      "cell_type": "markdown",
      "source": [
        "### Spliting the dataset"
      ]
    },
    {
      "metadata": {
        "colab_type": "code",
        "id": "fTjseu2XHM7f",
        "outputId": "dd25eeb0-2e18-40cd-eb4f-406bab250b18",
        "colab": {
          "base_uri": "https://localhost:8080/",
          "height": 69
        }
      },
      "cell_type": "code",
      "source": [
        "X_train = df_train.drop(['label'], axis=1)\n",
        "y_train = df_train['label']\n",
        "X_test = df_test\n",
        "\n",
        "# Free memory space\n",
        "\n",
        "del df_train\n",
        "del df_test\n",
        "\n",
        "print('Shape of X_train:', X_train.shape)\n",
        "print('Shape of y_train:', y_train.shape)\n",
        "print('Shape of X_test :', X_test.shape)"
      ],
      "execution_count": 7,
      "outputs": [
        {
          "output_type": "stream",
          "text": [
            "Shape of X_train: (42000, 784)\n",
            "Shape of y_train: (42000,)\n",
            "Shape of X_test : (28000, 784)\n"
          ],
          "name": "stdout"
        }
      ]
    },
    {
      "metadata": {
        "colab_type": "text",
        "id": "P67_rsamHM7l"
      },
      "cell_type": "markdown",
      "source": [
        "### Counting the labels before ADASYN"
      ]
    },
    {
      "metadata": {
        "colab_type": "code",
        "id": "kRiEicH7HM7n",
        "outputId": "7689627f-60e6-4308-9b4b-592d63a40e71",
        "colab": {
          "base_uri": "https://localhost:8080/",
          "height": 191
        }
      },
      "cell_type": "code",
      "source": [
        "counter = Counter(y_train)\n",
        "counter"
      ],
      "execution_count": 8,
      "outputs": [
        {
          "output_type": "execute_result",
          "data": {
            "text/plain": [
              "Counter({0: 4132,\n",
              "         1: 4684,\n",
              "         2: 4177,\n",
              "         3: 4351,\n",
              "         4: 4072,\n",
              "         5: 3795,\n",
              "         6: 4137,\n",
              "         7: 4401,\n",
              "         8: 4063,\n",
              "         9: 4188})"
            ]
          },
          "metadata": {
            "tags": []
          },
          "execution_count": 8
        }
      ]
    },
    {
      "metadata": {
        "colab_type": "text",
        "id": "i0fZrdF35hr-"
      },
      "cell_type": "markdown",
      "source": [
        "### Using ADASYN to increase the number of images in training dataset"
      ]
    },
    {
      "metadata": {
        "colab_type": "code",
        "id": "ZHeNNvtu5hsL",
        "colab": {
          "base_uri": "https://localhost:8080/",
          "height": 52
        },
        "outputId": "599db5a9-e9cd-4e9a-c715-a4afcbb76180"
      },
      "cell_type": "code",
      "source": [
        "cols = X_train.columns\n",
        "\n",
        "ad = ADASYN(random_state=seed)\n",
        "X_train, y_train = ad.fit_sample(X_train, y_train.ravel())\n",
        "X_train = pd.DataFrame(X_train, columns=cols)\n",
        "\n",
        "print('New shape of X_train:', X_train.shape)\n",
        "print('New shape of y_train:', y_train.shape)"
      ],
      "execution_count": 9,
      "outputs": [
        {
          "output_type": "stream",
          "text": [
            "New shape of X_train: (46926, 784)\n",
            "New shape of y_train: (46926,)\n"
          ],
          "name": "stdout"
        }
      ]
    },
    {
      "metadata": {
        "colab_type": "text",
        "id": "iNJfDwia75Tg"
      },
      "cell_type": "markdown",
      "source": [
        "### Counting the labels after ADASYN"
      ]
    },
    {
      "metadata": {
        "colab_type": "code",
        "id": "cYNQJjBM7-kt",
        "colab": {
          "base_uri": "https://localhost:8080/",
          "height": 191
        },
        "outputId": "d57a678b-c399-4aec-91c0-9d69b047e9ad"
      },
      "cell_type": "code",
      "source": [
        "counter = Counter(y_train)\n",
        "counter"
      ],
      "execution_count": 10,
      "outputs": [
        {
          "output_type": "execute_result",
          "data": {
            "text/plain": [
              "Counter({0: 4707,\n",
              "         1: 4684,\n",
              "         2: 4589,\n",
              "         3: 4649,\n",
              "         4: 4868,\n",
              "         5: 4813,\n",
              "         6: 4743,\n",
              "         7: 4643,\n",
              "         8: 4676,\n",
              "         9: 4554})"
            ]
          },
          "metadata": {
            "tags": []
          },
          "execution_count": 10
        }
      ]
    },
    {
      "metadata": {
        "colab_type": "text",
        "id": "1yB4I_nrHM7y"
      },
      "cell_type": "markdown",
      "source": [
        "### Normalizing the values of training and test"
      ]
    },
    {
      "metadata": {
        "colab_type": "code",
        "id": "4WMu2MblHM71",
        "colab": {}
      },
      "cell_type": "code",
      "source": [
        "X_train = X_train / 255\n",
        "X_test = X_test / 255"
      ],
      "execution_count": 0,
      "outputs": []
    },
    {
      "metadata": {
        "colab_type": "text",
        "id": "zjZ13rBtHM7-"
      },
      "cell_type": "markdown",
      "source": [
        "### Reshape the images in 3 dimensions to use with Keras"
      ]
    },
    {
      "metadata": {
        "colab_type": "code",
        "id": "fTllDgzdHM7_",
        "colab": {
          "base_uri": "https://localhost:8080/",
          "height": 52
        },
        "outputId": "0626e405-ca2c-4581-b878-1a2637784ed0"
      },
      "cell_type": "code",
      "source": [
        "X_train = X_train.values.reshape(-1,28,28,1) # (height = 28px, width = 28px , canal = 1)\n",
        "X_test = X_test.values.reshape(-1,28,28,1)\n",
        "\n",
        "print('Shape of X_train:', X_train.shape)\n",
        "print('Shape of X_test :', X_test.shape)"
      ],
      "execution_count": 12,
      "outputs": [
        {
          "output_type": "stream",
          "text": [
            "Shape of X_train: (46926, 28, 28, 1)\n",
            "Shape of X_test : (28000, 28, 28, 1)\n"
          ],
          "name": "stdout"
        }
      ]
    },
    {
      "metadata": {
        "colab_type": "text",
        "id": "iiCE1sBnHM8J"
      },
      "cell_type": "markdown",
      "source": [
        "### Converting y values (labels) to categorical values"
      ]
    },
    {
      "metadata": {
        "colab_type": "code",
        "id": "FldleonhHM8J",
        "colab": {
          "base_uri": "https://localhost:8080/",
          "height": 139
        },
        "outputId": "ba3f98cd-944f-49ac-94c3-c8c6b745be66"
      },
      "cell_type": "code",
      "source": [
        "# One Hot Categories\n",
        "\n",
        "y_train = to_categorical(y_train, num_classes = 10)\n",
        "y_train"
      ],
      "execution_count": 13,
      "outputs": [
        {
          "output_type": "execute_result",
          "data": {
            "text/plain": [
              "array([[0., 1., 0., ..., 0., 0., 0.],\n",
              "       [1., 0., 0., ..., 0., 0., 0.],\n",
              "       [0., 1., 0., ..., 0., 0., 0.],\n",
              "       ...,\n",
              "       [0., 0., 0., ..., 0., 0., 1.],\n",
              "       [0., 0., 0., ..., 0., 0., 1.],\n",
              "       [0., 0., 0., ..., 0., 0., 1.]], dtype=float32)"
            ]
          },
          "metadata": {
            "tags": []
          },
          "execution_count": 13
        }
      ]
    },
    {
      "metadata": {
        "colab_type": "text",
        "id": "0zX5q-yeHM8R"
      },
      "cell_type": "markdown",
      "source": [
        "### Define the baseline neural network model"
      ]
    },
    {
      "metadata": {
        "colab_type": "code",
        "id": "YZzy77A6HM8V",
        "colab": {}
      },
      "cell_type": "code",
      "source": [
        "def baseline_model():\n",
        "    \n",
        "    # Create baseline\n",
        "    \n",
        "    baseline = Sequential()\n",
        "\n",
        "    #---------------------------------------------------------------------------------------------------\n",
        "    \n",
        "    # 32 filters for the three firsts conv2D layers\n",
        "    \n",
        "    baseline.add(Conv2D(filters = 32, kernel_size = (5,5),padding = 'Same', activation = 'relu', \n",
        "                     input_shape = (28, 28, 1)))\n",
        "    baseline.add(BatchNormalization())\n",
        "    baseline.add(Conv2D(filters = 32, kernel_size = (5,5),padding = 'Same', activation = 'relu'))\n",
        "    baseline.add(BatchNormalization())\n",
        "    baseline.add(Conv2D(filters = 32, kernel_size = (5,5),padding = 'Same', activation = 'relu'))\n",
        "    baseline.add(BatchNormalization())\n",
        "    \n",
        "    # This layer simply acts as a downsampling filter. \n",
        "    # It looks at the 2 neighboring pixels and picks the maximal value, reducing computational cost, \n",
        "    # and to some extent also reduce overfitting.\n",
        "    \n",
        "    # IMPORTANT: Combining convolutional and pooling layers, CNN are able to combine local features and \n",
        "    # learn more global features of the image.\n",
        "    \n",
        "    baseline.add(MaxPool2D(pool_size=(2,2)))\n",
        "    \n",
        "    # Dropout is a regularization method, where a proportion of nodes (25%) in the layer are randomly ignored \n",
        "    # for each training sample. This dropout forces the network to learn features in a distributed way \n",
        "    # and improves generalization and reduces the overfitting.\n",
        "    \n",
        "    baseline.add(Dropout(0.4))\n",
        "    #---------------------------------------------------------------------------------------------------\n",
        "    \n",
        "    # 64 filters for the three last conv2D layers\n",
        "    \n",
        "    baseline.add(Conv2D(filters = 64, kernel_size = (3,3), padding = 'Same', activation = 'relu'))\n",
        "    baseline.add(BatchNormalization())\n",
        "    baseline.add(Conv2D(filters = 64, kernel_size = (3,3), padding = 'Same', activation = 'relu'))\n",
        "    baseline.add(BatchNormalization())\n",
        "    baseline.add(Conv2D(filters = 64, kernel_size = (3,3), padding = 'Same', activation = 'relu'))\n",
        "    baseline.add(BatchNormalization())\n",
        "    \n",
        "    baseline.add(MaxPool2D(pool_size=(2,2), strides=(2,2)))\n",
        "    baseline.add(Dropout(0.4))\n",
        "    #---------------------------------------------------------------------------------------------------\n",
        "\n",
        "    # The Flatten layer is use to convert the final feature maps into a one single 1D vector. \n",
        "    # IMPORTANT: It combines all the found local features of the previous convolutional layers.\n",
        "    \n",
        "    baseline.add(Conv2D(filters = 128, kernel_size = (3,3), padding = 'Same', activation = 'relu'))\n",
        "    baseline.add(BatchNormalization())\n",
        "    \n",
        "    baseline.add(Flatten())\n",
        "    baseline.add(Dense(256, activation = \"relu\"))\n",
        "    baseline.add(Dropout(0.4))\n",
        "    \n",
        "    # The net outputs distribution of probability of each class --> In our case, 10 output classes\n",
        "    \n",
        "    baseline.add(Dense(10, activation = \"softmax\"))\n",
        "    \n",
        "    # The optimizer will iteratively improve parameters in order to minimize the loss.\n",
        "    \n",
        "    optimizer = RMSprop(epsilon=1e-08)\n",
        "\n",
        "    # Compile the baseline including the optimizer and evaluating the performance of the baseline by accuracy\n",
        "    \n",
        "    baseline.compile(optimizer = optimizer , loss = \"categorical_crossentropy\", metrics = [\"accuracy\"])\n",
        "    \n",
        "    return baseline"
      ],
      "execution_count": 0,
      "outputs": []
    },
    {
      "metadata": {
        "colab_type": "text",
        "id": "xVF-L9DtHM8b"
      },
      "cell_type": "markdown",
      "source": [
        "### Learning Rate"
      ]
    },
    {
      "metadata": {
        "colab_type": "code",
        "id": "0RozIgRBHM8c",
        "colab": {}
      },
      "cell_type": "code",
      "source": [
        "# If after the third epoch we didn't have an improvement of accuracy, the learning rate will be \n",
        "# reduced by 50% (factor).\n",
        "\n",
        "lr_reduction = ReduceLROnPlateau(monitor='val_acc',\n",
        "                                 patience=3, \n",
        "                                 verbose=0, \n",
        "                                 factor=0.5, \n",
        "                                 min_lr=0.00001)"
      ],
      "execution_count": 0,
      "outputs": []
    },
    {
      "metadata": {
        "colab_type": "text",
        "id": "l_zBIykRHM8h"
      },
      "cell_type": "markdown",
      "source": [
        "### Data augmentation"
      ]
    },
    {
      "metadata": {
        "colab_type": "code",
        "id": "4gJaCXuIHM8u",
        "colab": {}
      },
      "cell_type": "code",
      "source": [
        "# The idea is to alter the training data with small transformations to reproduce the variations \n",
        "# occuring when someone is writing a digit. It's a way to minimize the overfitting of the model.\n",
        "\n",
        "generator = ImageDataGenerator(featurewise_center = False,\n",
        "                               samplewise_center = False, \n",
        "                               featurewise_std_normalization = False,\n",
        "                               samplewise_std_normalization = False,\n",
        "                               zca_whitening = False,\n",
        "                               rotation_range = 10, # Rotate image in 10 degrees\n",
        "                               zoom_range = 0.10, # Zoom image (10% zoom) \n",
        "                               width_shift_range = 0.10, # Shift image horizontally (10% of width)\n",
        "                               height_shift_range = 0.10, # Shift image vertically (10% of height)\n",
        "                               horizontal_flip = False,\n",
        "                               vertical_flip = False)\n",
        "\n",
        "generator.fit(X_train)"
      ],
      "execution_count": 0,
      "outputs": []
    },
    {
      "metadata": {
        "colab_type": "text",
        "id": "mCbwS1l4HM8x"
      },
      "cell_type": "markdown",
      "source": [
        "### Creating 10 nets and training every ones"
      ]
    },
    {
      "metadata": {
        "colab_type": "code",
        "id": "0qE_BCrQHM83",
        "colab": {}
      },
      "cell_type": "code",
      "source": [
        "nets = 1\n",
        "digits = [0] * nets\n",
        "history = [0] * nets\n",
        "\n",
        "epochs = 50\n",
        "batch_size = 64"
      ],
      "execution_count": 0,
      "outputs": []
    },
    {
      "metadata": {
        "colab_type": "code",
        "id": "gv78_SCvHM9C",
        "colab": {
          "base_uri": "https://localhost:8080/",
          "height": 7123
        },
        "outputId": "946c65a3-fad0-4e39-e058-ad93c280354b"
      },
      "cell_type": "code",
      "source": [
        "print(\"Creating {0} CNNs...\".format(nets))\n",
        "for model in range(nets):\n",
        "    digits[model] = baseline_model()\n",
        "    \n",
        "    # Splitting train and test datasets\n",
        "    \n",
        "    X_train_aux, X_test_aux, y_train_aux, y_test_aux = train_test_split(X_train, y_train, test_size = 0.1)\n",
        "    \n",
        "    history[model] = digits[model].fit_generator(generator.flow(X_train_aux,\n",
        "                                                                y_train_aux, \n",
        "                                                                batch_size = batch_size),\n",
        "                                                 epochs = epochs, \n",
        "                                                 steps_per_epoch = X_train_aux.shape[0] // batch_size, \n",
        "                                                 validation_data = (X_test_aux, y_test_aux), \n",
        "                                                 callbacks=[lr_reduction],\n",
        "                                                 verbose=0)\n",
        "    \n",
        "    print(\"-------------------------------------------------------------------\")\n",
        "    print(\"CNN {0:d}: Epochs = {1:d}, Max. Train = {2:.5f}, Max. Validation = {3:.5f}\".format(\n",
        "        model + 1, # Number of the CNN\n",
        "        epochs, # Total of epochs\n",
        "        max(history[model].history['acc']), # Maximum Accuracy from Training\n",
        "        max(history[model].history['val_acc']))) # Maximum Accuracy from Test (validation)\n",
        "    print(\"-------------------------------------------------------------------\")"
      ],
      "execution_count": 0,
      "outputs": [
        {
          "output_type": "stream",
          "text": [
            "Creating 5 CNNs...\n",
            "Epoch 1/50\n",
            "469/469 [==============================] - 27s 57ms/step - loss: 0.4599 - acc: 0.8728 - val_loss: 0.1616 - val_acc: 0.9469\n",
            "Epoch 2/50\n",
            "469/469 [==============================] - 22s 48ms/step - loss: 0.1903 - acc: 0.9532 - val_loss: 0.1368 - val_acc: 0.9623\n",
            "Epoch 3/50\n",
            "469/469 [==============================] - 23s 48ms/step - loss: 0.1666 - acc: 0.9616 - val_loss: 0.0844 - val_acc: 0.9806\n",
            "Epoch 4/50\n",
            "469/469 [==============================] - 23s 48ms/step - loss: 0.1426 - acc: 0.9675 - val_loss: 0.0629 - val_acc: 0.9832\n",
            "Epoch 5/50\n",
            "469/469 [==============================] - 23s 48ms/step - loss: 0.1306 - acc: 0.9702 - val_loss: 0.0877 - val_acc: 0.9819\n",
            "Epoch 6/50\n",
            "469/469 [==============================] - 23s 48ms/step - loss: 0.1216 - acc: 0.9734 - val_loss: 0.0733 - val_acc: 0.9849\n",
            "Epoch 7/50\n",
            "469/469 [==============================] - 23s 48ms/step - loss: 0.1170 - acc: 0.9738 - val_loss: 0.0853 - val_acc: 0.9840\n",
            "Epoch 8/50\n",
            "469/469 [==============================] - 23s 48ms/step - loss: 0.1223 - acc: 0.9741 - val_loss: 0.0536 - val_acc: 0.9891\n",
            "Epoch 9/50\n",
            "469/469 [==============================] - 23s 48ms/step - loss: 0.1108 - acc: 0.9769 - val_loss: 0.0741 - val_acc: 0.9872\n",
            "Epoch 10/50\n",
            "469/469 [==============================] - 23s 49ms/step - loss: 0.1045 - acc: 0.9793 - val_loss: 0.0525 - val_acc: 0.9870\n",
            "Epoch 11/50\n",
            "469/469 [==============================] - 23s 48ms/step - loss: 0.1015 - acc: 0.9792 - val_loss: 0.0473 - val_acc: 0.9889\n",
            "Epoch 12/50\n",
            "469/469 [==============================] - 23s 48ms/step - loss: 0.0652 - acc: 0.9853 - val_loss: 0.0324 - val_acc: 0.9923\n",
            "Epoch 13/50\n",
            "469/469 [==============================] - 23s 48ms/step - loss: 0.0677 - acc: 0.9859 - val_loss: 0.0302 - val_acc: 0.9930\n",
            "Epoch 14/50\n",
            "469/469 [==============================] - 23s 49ms/step - loss: 0.0614 - acc: 0.9865 - val_loss: 0.0420 - val_acc: 0.9928\n",
            "Epoch 15/50\n",
            "469/469 [==============================] - 23s 48ms/step - loss: 0.0621 - acc: 0.9868 - val_loss: 0.0324 - val_acc: 0.9930\n",
            "Epoch 16/50\n",
            "469/469 [==============================] - 23s 48ms/step - loss: 0.0577 - acc: 0.9876 - val_loss: 0.0423 - val_acc: 0.9919\n",
            "Epoch 17/50\n",
            "469/469 [==============================] - 23s 49ms/step - loss: 0.0487 - acc: 0.9897 - val_loss: 0.0316 - val_acc: 0.9951\n",
            "Epoch 18/50\n",
            "469/469 [==============================] - 23s 49ms/step - loss: 0.0455 - acc: 0.9907 - val_loss: 0.0252 - val_acc: 0.9949\n",
            "Epoch 19/50\n",
            "469/469 [==============================] - 23s 48ms/step - loss: 0.0392 - acc: 0.9913 - val_loss: 0.0233 - val_acc: 0.9945\n",
            "Epoch 20/50\n",
            "469/469 [==============================] - 23s 49ms/step - loss: 0.0439 - acc: 0.9911 - val_loss: 0.0350 - val_acc: 0.9928\n",
            "Epoch 21/50\n",
            "469/469 [==============================] - 23s 49ms/step - loss: 0.0420 - acc: 0.9909 - val_loss: 0.0294 - val_acc: 0.9949\n",
            "Epoch 22/50\n",
            "469/469 [==============================] - 23s 49ms/step - loss: 0.0346 - acc: 0.9928 - val_loss: 0.0324 - val_acc: 0.9957\n",
            "Epoch 23/50\n",
            "469/469 [==============================] - 23s 49ms/step - loss: 0.0363 - acc: 0.9920 - val_loss: 0.0235 - val_acc: 0.9964\n",
            "Epoch 24/50\n",
            "469/469 [==============================] - 23s 49ms/step - loss: 0.0346 - acc: 0.9932 - val_loss: 0.0254 - val_acc: 0.9945\n",
            "Epoch 25/50\n",
            "469/469 [==============================] - 23s 49ms/step - loss: 0.0319 - acc: 0.9930 - val_loss: 0.0256 - val_acc: 0.9949\n",
            "Epoch 26/50\n",
            "469/469 [==============================] - 23s 49ms/step - loss: 0.0359 - acc: 0.9926 - val_loss: 0.0256 - val_acc: 0.9953\n",
            "Epoch 27/50\n",
            "469/469 [==============================] - 23s 49ms/step - loss: 0.0283 - acc: 0.9935 - val_loss: 0.0210 - val_acc: 0.9964\n",
            "Epoch 28/50\n",
            "469/469 [==============================] - 23s 49ms/step - loss: 0.0313 - acc: 0.9933 - val_loss: 0.0231 - val_acc: 0.9968\n",
            "Epoch 29/50\n",
            "469/469 [==============================] - 22s 48ms/step - loss: 0.0292 - acc: 0.9939 - val_loss: 0.0218 - val_acc: 0.9964\n",
            "Epoch 30/50\n",
            "469/469 [==============================] - 23s 49ms/step - loss: 0.0255 - acc: 0.9941 - val_loss: 0.0200 - val_acc: 0.9955\n",
            "Epoch 31/50\n",
            "469/469 [==============================] - 23s 49ms/step - loss: 0.0297 - acc: 0.9937 - val_loss: 0.0218 - val_acc: 0.9962\n",
            "Epoch 32/50\n",
            "469/469 [==============================] - 23s 49ms/step - loss: 0.0291 - acc: 0.9941 - val_loss: 0.0205 - val_acc: 0.9966\n",
            "Epoch 33/50\n",
            "469/469 [==============================] - 23s 48ms/step - loss: 0.0272 - acc: 0.9942 - val_loss: 0.0205 - val_acc: 0.9964\n",
            "Epoch 34/50\n",
            "469/469 [==============================] - 23s 49ms/step - loss: 0.0251 - acc: 0.9943 - val_loss: 0.0218 - val_acc: 0.9962\n",
            "Epoch 35/50\n",
            "469/469 [==============================] - 23s 48ms/step - loss: 0.0244 - acc: 0.9948 - val_loss: 0.0219 - val_acc: 0.9966\n",
            "Epoch 36/50\n",
            "469/469 [==============================] - 23s 49ms/step - loss: 0.0266 - acc: 0.9940 - val_loss: 0.0222 - val_acc: 0.9962\n",
            "Epoch 37/50\n",
            "469/469 [==============================] - 23s 49ms/step - loss: 0.0255 - acc: 0.9948 - val_loss: 0.0225 - val_acc: 0.9962\n",
            "Epoch 38/50\n",
            "469/469 [==============================] - 23s 49ms/step - loss: 0.0252 - acc: 0.9943 - val_loss: 0.0224 - val_acc: 0.9962\n",
            "Epoch 39/50\n",
            "469/469 [==============================] - 23s 48ms/step - loss: 0.0294 - acc: 0.9936 - val_loss: 0.0227 - val_acc: 0.9962\n",
            "Epoch 40/50\n",
            "469/469 [==============================] - 23s 49ms/step - loss: 0.0244 - acc: 0.9945 - val_loss: 0.0230 - val_acc: 0.9964\n",
            "Epoch 41/50\n",
            "469/469 [==============================] - 23s 48ms/step - loss: 0.0238 - acc: 0.9949 - val_loss: 0.0232 - val_acc: 0.9962\n",
            "Epoch 42/50\n",
            "469/469 [==============================] - 23s 48ms/step - loss: 0.0254 - acc: 0.9944 - val_loss: 0.0232 - val_acc: 0.9962\n",
            "Epoch 43/50\n",
            "469/469 [==============================] - 22s 48ms/step - loss: 0.0267 - acc: 0.9942 - val_loss: 0.0234 - val_acc: 0.9960\n",
            "Epoch 44/50\n",
            "469/469 [==============================] - 23s 48ms/step - loss: 0.0274 - acc: 0.9945 - val_loss: 0.0225 - val_acc: 0.9962\n",
            "Epoch 45/50\n",
            "469/469 [==============================] - 23s 48ms/step - loss: 0.0282 - acc: 0.9939 - val_loss: 0.0226 - val_acc: 0.9962\n",
            "Epoch 46/50\n",
            "469/469 [==============================] - 23s 48ms/step - loss: 0.0238 - acc: 0.9948 - val_loss: 0.0225 - val_acc: 0.9964\n",
            "Epoch 47/50\n",
            "469/469 [==============================] - 23s 48ms/step - loss: 0.0277 - acc: 0.9943 - val_loss: 0.0224 - val_acc: 0.9968\n",
            "Epoch 48/50\n",
            "469/469 [==============================] - 23s 48ms/step - loss: 0.0240 - acc: 0.9946 - val_loss: 0.0226 - val_acc: 0.9966\n",
            "Epoch 49/50\n",
            "469/469 [==============================] - 23s 49ms/step - loss: 0.0270 - acc: 0.9946 - val_loss: 0.0230 - val_acc: 0.9962\n",
            "Epoch 50/50\n",
            "469/469 [==============================] - 23s 48ms/step - loss: 0.0250 - acc: 0.9941 - val_loss: 0.0223 - val_acc: 0.9968\n",
            "---------------------------------------------------------\n",
            "CNN 1: Epochs = 50, Train = 0.99490, Validation = 0.99680\n",
            "---------------------------------------------------------\n",
            "Epoch 1/50\n",
            "469/469 [==============================] - 27s 58ms/step - loss: 0.4808 - acc: 0.8646 - val_loss: 0.1353 - val_acc: 0.9619\n",
            "Epoch 2/50\n",
            "469/469 [==============================] - 23s 48ms/step - loss: 0.1998 - acc: 0.9499 - val_loss: 0.0888 - val_acc: 0.9751\n",
            "Epoch 3/50\n",
            "469/469 [==============================] - 23s 49ms/step - loss: 0.1604 - acc: 0.9626 - val_loss: 0.0501 - val_acc: 0.9853\n",
            "Epoch 4/50\n",
            "469/469 [==============================] - 23s 48ms/step - loss: 0.1398 - acc: 0.9675 - val_loss: 0.0804 - val_acc: 0.9744\n",
            "Epoch 5/50\n",
            "469/469 [==============================] - 23s 48ms/step - loss: 0.1350 - acc: 0.9706 - val_loss: 0.0450 - val_acc: 0.9887\n",
            "Epoch 6/50\n",
            "469/469 [==============================] - 22s 48ms/step - loss: 0.1239 - acc: 0.9728 - val_loss: 0.0650 - val_acc: 0.9876\n",
            "Epoch 7/50\n",
            "469/469 [==============================] - 23s 48ms/step - loss: 0.1213 - acc: 0.9743 - val_loss: 0.0599 - val_acc: 0.9853\n",
            "Epoch 8/50\n",
            "469/469 [==============================] - 23s 48ms/step - loss: 0.1087 - acc: 0.9758 - val_loss: 0.0672 - val_acc: 0.9864\n",
            "Epoch 9/50\n",
            "469/469 [==============================] - 23s 48ms/step - loss: 0.0769 - acc: 0.9828 - val_loss: 0.0390 - val_acc: 0.9908\n",
            "Epoch 10/50\n",
            "469/469 [==============================] - 23s 49ms/step - loss: 0.0680 - acc: 0.9853 - val_loss: 0.0256 - val_acc: 0.9942\n",
            "Epoch 11/50\n",
            "469/469 [==============================] - 23s 48ms/step - loss: 0.0703 - acc: 0.9852 - val_loss: 0.0349 - val_acc: 0.9919\n",
            "Epoch 12/50\n",
            "469/469 [==============================] - 23s 49ms/step - loss: 0.0716 - acc: 0.9849 - val_loss: 0.0213 - val_acc: 0.9949\n",
            "Epoch 13/50\n",
            "469/469 [==============================] - 23s 48ms/step - loss: 0.0708 - acc: 0.9857 - val_loss: 0.0349 - val_acc: 0.9928\n",
            "Epoch 14/50\n",
            "469/469 [==============================] - 23s 49ms/step - loss: 0.0618 - acc: 0.9864 - val_loss: 0.0605 - val_acc: 0.9885\n",
            "Epoch 15/50\n",
            "469/469 [==============================] - 23s 49ms/step - loss: 0.0632 - acc: 0.9869 - val_loss: 0.0369 - val_acc: 0.9923\n",
            "Epoch 16/50\n",
            "469/469 [==============================] - 23s 49ms/step - loss: 0.0547 - acc: 0.9887 - val_loss: 0.0260 - val_acc: 0.9945\n",
            "Epoch 17/50\n",
            "469/469 [==============================] - 23s 49ms/step - loss: 0.0469 - acc: 0.9900 - val_loss: 0.0295 - val_acc: 0.9942\n",
            "Epoch 18/50\n",
            "469/469 [==============================] - 23s 49ms/step - loss: 0.0428 - acc: 0.9907 - val_loss: 0.0209 - val_acc: 0.9951\n",
            "Epoch 19/50\n",
            "469/469 [==============================] - 23s 48ms/step - loss: 0.0433 - acc: 0.9913 - val_loss: 0.0320 - val_acc: 0.9938\n",
            "Epoch 20/50\n",
            "469/469 [==============================] - 23s 48ms/step - loss: 0.0456 - acc: 0.9902 - val_loss: 0.0306 - val_acc: 0.9945\n",
            "Epoch 21/50\n",
            "469/469 [==============================] - 23s 49ms/step - loss: 0.0447 - acc: 0.9903 - val_loss: 0.0266 - val_acc: 0.9949\n",
            "Epoch 22/50\n",
            "469/469 [==============================] - 23s 48ms/step - loss: 0.0392 - acc: 0.9913 - val_loss: 0.0267 - val_acc: 0.9938\n",
            "Epoch 23/50\n",
            "469/469 [==============================] - 23s 49ms/step - loss: 0.0308 - acc: 0.9928 - val_loss: 0.0228 - val_acc: 0.9953\n",
            "Epoch 24/50\n",
            "469/469 [==============================] - 23s 49ms/step - loss: 0.0353 - acc: 0.9919 - val_loss: 0.0235 - val_acc: 0.9955\n",
            "Epoch 25/50\n",
            "469/469 [==============================] - 23s 49ms/step - loss: 0.0314 - acc: 0.9931 - val_loss: 0.0206 - val_acc: 0.9953\n",
            "Epoch 26/50\n",
            "469/469 [==============================] - 23s 49ms/step - loss: 0.0339 - acc: 0.9932 - val_loss: 0.0234 - val_acc: 0.9960\n",
            "Epoch 27/50\n",
            "469/469 [==============================] - 23s 49ms/step - loss: 0.0321 - acc: 0.9929 - val_loss: 0.0213 - val_acc: 0.9955\n",
            "Epoch 28/50\n",
            "469/469 [==============================] - 23s 48ms/step - loss: 0.0362 - acc: 0.9924 - val_loss: 0.0210 - val_acc: 0.9955\n",
            "Epoch 29/50\n",
            "469/469 [==============================] - 23s 49ms/step - loss: 0.0324 - acc: 0.9931 - val_loss: 0.0257 - val_acc: 0.9945\n",
            "Epoch 30/50\n",
            "469/469 [==============================] - 23s 49ms/step - loss: 0.0301 - acc: 0.9935 - val_loss: 0.0202 - val_acc: 0.9957\n",
            "Epoch 31/50\n",
            "469/469 [==============================] - 23s 49ms/step - loss: 0.0307 - acc: 0.9934 - val_loss: 0.0233 - val_acc: 0.9953\n",
            "Epoch 32/50\n",
            "469/469 [==============================] - 23s 49ms/step - loss: 0.0306 - acc: 0.9933 - val_loss: 0.0238 - val_acc: 0.9953\n",
            "Epoch 33/50\n",
            "469/469 [==============================] - 22s 48ms/step - loss: 0.0245 - acc: 0.9941 - val_loss: 0.0231 - val_acc: 0.9951\n",
            "Epoch 34/50\n",
            "469/469 [==============================] - 23s 49ms/step - loss: 0.0281 - acc: 0.9940 - val_loss: 0.0209 - val_acc: 0.9955\n",
            "Epoch 35/50\n",
            "469/469 [==============================] - 23s 49ms/step - loss: 0.0258 - acc: 0.9947 - val_loss: 0.0199 - val_acc: 0.9966\n",
            "Epoch 36/50\n",
            "469/469 [==============================] - 23s 48ms/step - loss: 0.0261 - acc: 0.9946 - val_loss: 0.0168 - val_acc: 0.9964\n",
            "Epoch 37/50\n",
            "469/469 [==============================] - 23s 49ms/step - loss: 0.0265 - acc: 0.9941 - val_loss: 0.0194 - val_acc: 0.9966\n",
            "Epoch 38/50\n",
            "469/469 [==============================] - 23s 49ms/step - loss: 0.0233 - acc: 0.9946 - val_loss: 0.0187 - val_acc: 0.9960\n",
            "Epoch 39/50\n",
            "469/469 [==============================] - 23s 49ms/step - loss: 0.0272 - acc: 0.9942 - val_loss: 0.0191 - val_acc: 0.9964\n",
            "Epoch 40/50\n",
            "469/469 [==============================] - 23s 49ms/step - loss: 0.0240 - acc: 0.9945 - val_loss: 0.0185 - val_acc: 0.9964\n",
            "Epoch 41/50\n",
            "469/469 [==============================] - 23s 49ms/step - loss: 0.0263 - acc: 0.9942 - val_loss: 0.0200 - val_acc: 0.9962\n",
            "Epoch 42/50\n",
            "469/469 [==============================] - 23s 49ms/step - loss: 0.0267 - acc: 0.9945 - val_loss: 0.0192 - val_acc: 0.9966\n",
            "Epoch 43/50\n",
            "469/469 [==============================] - 23s 48ms/step - loss: 0.0285 - acc: 0.9944 - val_loss: 0.0197 - val_acc: 0.9964\n",
            "Epoch 44/50\n",
            "469/469 [==============================] - 23s 49ms/step - loss: 0.0220 - acc: 0.9951 - val_loss: 0.0200 - val_acc: 0.9966\n",
            "Epoch 45/50\n",
            "469/469 [==============================] - 23s 49ms/step - loss: 0.0261 - acc: 0.9945 - val_loss: 0.0203 - val_acc: 0.9970\n",
            "Epoch 46/50\n",
            "469/469 [==============================] - 23s 49ms/step - loss: 0.0248 - acc: 0.9949 - val_loss: 0.0196 - val_acc: 0.9964\n",
            "Epoch 47/50\n",
            "469/469 [==============================] - 22s 48ms/step - loss: 0.0239 - acc: 0.9951 - val_loss: 0.0195 - val_acc: 0.9968\n",
            "Epoch 48/50\n",
            "469/469 [==============================] - 23s 49ms/step - loss: 0.0229 - acc: 0.9949 - val_loss: 0.0186 - val_acc: 0.9962\n",
            "Epoch 49/50\n",
            "469/469 [==============================] - 23s 49ms/step - loss: 0.0220 - acc: 0.9949 - val_loss: 0.0196 - val_acc: 0.9966\n",
            "Epoch 50/50\n",
            "469/469 [==============================] - 23s 49ms/step - loss: 0.0258 - acc: 0.9948 - val_loss: 0.0195 - val_acc: 0.9966\n",
            "---------------------------------------------------------\n",
            "CNN 2: Epochs = 50, Train = 0.99514, Validation = 0.99702\n",
            "---------------------------------------------------------\n",
            "Epoch 1/50\n",
            "469/469 [==============================] - 28s 60ms/step - loss: 0.4364 - acc: 0.8800 - val_loss: 0.2246 - val_acc: 0.9476\n",
            "Epoch 2/50\n",
            "469/469 [==============================] - 24s 50ms/step - loss: 0.1852 - acc: 0.9549 - val_loss: 0.0853 - val_acc: 0.9774\n",
            "Epoch 3/50\n",
            "469/469 [==============================] - 23s 49ms/step - loss: 0.1479 - acc: 0.9645 - val_loss: 0.0693 - val_acc: 0.9834\n",
            "Epoch 4/50\n",
            "469/469 [==============================] - 23s 49ms/step - loss: 0.1435 - acc: 0.9677 - val_loss: 0.0884 - val_acc: 0.9819\n",
            "Epoch 5/50\n",
            "469/469 [==============================] - 23s 50ms/step - loss: 0.1369 - acc: 0.9711 - val_loss: 0.0585 - val_acc: 0.9855\n",
            "Epoch 6/50\n",
            "469/469 [==============================] - 23s 49ms/step - loss: 0.1173 - acc: 0.9745 - val_loss: 0.0506 - val_acc: 0.9849\n",
            "Epoch 7/50\n",
            "469/469 [==============================] - 23s 49ms/step - loss: 0.1164 - acc: 0.9750 - val_loss: 0.0856 - val_acc: 0.9830\n",
            "Epoch 8/50\n",
            "469/469 [==============================] - 23s 49ms/step - loss: 0.1121 - acc: 0.9766 - val_loss: 0.1014 - val_acc: 0.9778\n",
            "Epoch 9/50\n",
            "469/469 [==============================] - 23s 49ms/step - loss: 0.0770 - acc: 0.9831 - val_loss: 0.0325 - val_acc: 0.9930\n",
            "Epoch 10/50\n",
            "469/469 [==============================] - 23s 48ms/step - loss: 0.0723 - acc: 0.9846 - val_loss: 0.0397 - val_acc: 0.9898\n",
            "Epoch 11/50\n",
            "469/469 [==============================] - 23s 49ms/step - loss: 0.0690 - acc: 0.9849 - val_loss: 0.0410 - val_acc: 0.9921\n",
            "Epoch 12/50\n",
            "469/469 [==============================] - 23s 49ms/step - loss: 0.0647 - acc: 0.9858 - val_loss: 0.0327 - val_acc: 0.9917\n",
            "Epoch 13/50\n",
            "469/469 [==============================] - 23s 49ms/step - loss: 0.0513 - acc: 0.9883 - val_loss: 0.0285 - val_acc: 0.9928\n",
            "Epoch 14/50\n",
            "469/469 [==============================] - 23s 49ms/step - loss: 0.0477 - acc: 0.9898 - val_loss: 0.0316 - val_acc: 0.9930\n",
            "Epoch 15/50\n",
            "469/469 [==============================] - 23s 49ms/step - loss: 0.0496 - acc: 0.9891 - val_loss: 0.0282 - val_acc: 0.9936\n",
            "Epoch 16/50\n",
            "469/469 [==============================] - 23s 50ms/step - loss: 0.0473 - acc: 0.9898 - val_loss: 0.0278 - val_acc: 0.9925\n",
            "Epoch 17/50\n",
            "469/469 [==============================] - 23s 49ms/step - loss: 0.0428 - acc: 0.9914 - val_loss: 0.0283 - val_acc: 0.9942\n",
            "Epoch 18/50\n",
            "469/469 [==============================] - 23s 49ms/step - loss: 0.0417 - acc: 0.9911 - val_loss: 0.0248 - val_acc: 0.9953\n",
            "Epoch 19/50\n",
            "469/469 [==============================] - 23s 50ms/step - loss: 0.0455 - acc: 0.9905 - val_loss: 0.0203 - val_acc: 0.9947\n",
            "Epoch 20/50\n",
            "469/469 [==============================] - 23s 49ms/step - loss: 0.0449 - acc: 0.9905 - val_loss: 0.0292 - val_acc: 0.9945\n",
            "Epoch 21/50\n",
            "469/469 [==============================] - 23s 49ms/step - loss: 0.0479 - acc: 0.9906 - val_loss: 0.0268 - val_acc: 0.9953\n",
            "Epoch 22/50\n",
            "469/469 [==============================] - 23s 49ms/step - loss: 0.0383 - acc: 0.9916 - val_loss: 0.0253 - val_acc: 0.9955\n",
            "Epoch 23/50\n",
            "469/469 [==============================] - 23s 48ms/step - loss: 0.0403 - acc: 0.9917 - val_loss: 0.0265 - val_acc: 0.9942\n",
            "Epoch 24/50\n",
            "469/469 [==============================] - 23s 49ms/step - loss: 0.0308 - acc: 0.9928 - val_loss: 0.0234 - val_acc: 0.9947\n",
            "Epoch 25/50\n",
            "469/469 [==============================] - 23s 49ms/step - loss: 0.0367 - acc: 0.9927 - val_loss: 0.0269 - val_acc: 0.9940\n",
            "Epoch 26/50\n",
            "469/469 [==============================] - 23s 49ms/step - loss: 0.0296 - acc: 0.9933 - val_loss: 0.0234 - val_acc: 0.9947\n",
            "Epoch 27/50\n",
            "469/469 [==============================] - 23s 49ms/step - loss: 0.0300 - acc: 0.9936 - val_loss: 0.0259 - val_acc: 0.9942\n",
            "Epoch 28/50\n",
            "469/469 [==============================] - 23s 49ms/step - loss: 0.0312 - acc: 0.9938 - val_loss: 0.0225 - val_acc: 0.9949\n",
            "Epoch 29/50\n",
            "469/469 [==============================] - 23s 49ms/step - loss: 0.0312 - acc: 0.9934 - val_loss: 0.0212 - val_acc: 0.9949\n",
            "Epoch 30/50\n",
            "469/469 [==============================] - 23s 49ms/step - loss: 0.0309 - acc: 0.9932 - val_loss: 0.0223 - val_acc: 0.9945\n",
            "Epoch 31/50\n",
            "469/469 [==============================] - 23s 49ms/step - loss: 0.0265 - acc: 0.9945 - val_loss: 0.0219 - val_acc: 0.9949\n",
            "Epoch 32/50\n",
            "469/469 [==============================] - 23s 49ms/step - loss: 0.0308 - acc: 0.9936 - val_loss: 0.0217 - val_acc: 0.9949\n",
            "Epoch 33/50\n",
            "469/469 [==============================] - 23s 49ms/step - loss: 0.0273 - acc: 0.9942 - val_loss: 0.0225 - val_acc: 0.9951\n",
            "Epoch 34/50\n",
            "469/469 [==============================] - 23s 49ms/step - loss: 0.0256 - acc: 0.9942 - val_loss: 0.0213 - val_acc: 0.9953\n",
            "Epoch 35/50\n",
            "469/469 [==============================] - 23s 49ms/step - loss: 0.0269 - acc: 0.9941 - val_loss: 0.0213 - val_acc: 0.9949\n",
            "Epoch 36/50\n",
            "469/469 [==============================] - 23s 49ms/step - loss: 0.0282 - acc: 0.9940 - val_loss: 0.0218 - val_acc: 0.9949\n",
            "Epoch 37/50\n",
            "469/469 [==============================] - 22s 47ms/step - loss: 0.0249 - acc: 0.9951 - val_loss: 0.0224 - val_acc: 0.9949\n",
            "Epoch 38/50\n",
            "469/469 [==============================] - 23s 49ms/step - loss: 0.0243 - acc: 0.9946 - val_loss: 0.0228 - val_acc: 0.9947\n",
            "Epoch 39/50\n",
            "469/469 [==============================] - 23s 49ms/step - loss: 0.0258 - acc: 0.9948 - val_loss: 0.0230 - val_acc: 0.9951\n",
            "Epoch 40/50\n",
            "469/469 [==============================] - 23s 49ms/step - loss: 0.0269 - acc: 0.9946 - val_loss: 0.0221 - val_acc: 0.9949\n",
            "Epoch 41/50\n",
            "469/469 [==============================] - 23s 49ms/step - loss: 0.0260 - acc: 0.9944 - val_loss: 0.0229 - val_acc: 0.9951\n",
            "Epoch 42/50\n",
            "469/469 [==============================] - 23s 49ms/step - loss: 0.0243 - acc: 0.9943 - val_loss: 0.0221 - val_acc: 0.9951\n",
            "Epoch 43/50\n",
            "469/469 [==============================] - 23s 49ms/step - loss: 0.0282 - acc: 0.9941 - val_loss: 0.0219 - val_acc: 0.9949\n",
            "Epoch 44/50\n",
            "469/469 [==============================] - 23s 49ms/step - loss: 0.0278 - acc: 0.9949 - val_loss: 0.0229 - val_acc: 0.9951\n",
            "Epoch 45/50\n",
            "469/469 [==============================] - 23s 49ms/step - loss: 0.0259 - acc: 0.9945 - val_loss: 0.0226 - val_acc: 0.9951\n",
            "Epoch 46/50\n",
            "469/469 [==============================] - 23s 49ms/step - loss: 0.0240 - acc: 0.9946 - val_loss: 0.0232 - val_acc: 0.9949\n",
            "Epoch 47/50\n",
            "469/469 [==============================] - 23s 49ms/step - loss: 0.0224 - acc: 0.9947 - val_loss: 0.0221 - val_acc: 0.9953\n",
            "Epoch 48/50\n",
            "469/469 [==============================] - 23s 49ms/step - loss: 0.0289 - acc: 0.9940 - val_loss: 0.0219 - val_acc: 0.9957\n",
            "Epoch 49/50\n",
            "469/469 [==============================] - 23s 49ms/step - loss: 0.0280 - acc: 0.9943 - val_loss: 0.0220 - val_acc: 0.9955\n",
            "Epoch 50/50\n",
            "469/469 [==============================] - 23s 48ms/step - loss: 0.0238 - acc: 0.9945 - val_loss: 0.0228 - val_acc: 0.9953\n",
            "---------------------------------------------------------\n",
            "CNN 3: Epochs = 50, Train = 0.99509, Validation = 0.99574\n",
            "---------------------------------------------------------\n",
            "Epoch 1/50\n",
            "469/469 [==============================] - 28s 60ms/step - loss: 0.4765 - acc: 0.8666 - val_loss: 0.2348 - val_acc: 0.9442\n",
            "Epoch 2/50\n",
            "469/469 [==============================] - 23s 49ms/step - loss: 0.1941 - acc: 0.9509 - val_loss: 0.0651 - val_acc: 0.9844\n",
            "Epoch 3/50\n",
            "469/469 [==============================] - 23s 49ms/step - loss: 0.1592 - acc: 0.9622 - val_loss: 0.1329 - val_acc: 0.9710\n",
            "Epoch 4/50\n",
            "469/469 [==============================] - 23s 49ms/step - loss: 0.1395 - acc: 0.9683 - val_loss: 0.0545 - val_acc: 0.9861\n",
            "Epoch 5/50\n",
            "469/469 [==============================] - 23s 50ms/step - loss: 0.1282 - acc: 0.9705 - val_loss: 0.0616 - val_acc: 0.9864\n",
            "Epoch 6/50\n",
            "469/469 [==============================] - 23s 49ms/step - loss: 0.1320 - acc: 0.9721 - val_loss: 0.0416 - val_acc: 0.9906\n",
            "Epoch 7/50\n",
            "469/469 [==============================] - 23s 50ms/step - loss: 0.1196 - acc: 0.9758 - val_loss: 0.0635 - val_acc: 0.9859\n",
            "Epoch 8/50\n",
            "469/469 [==============================] - 23s 49ms/step - loss: 0.1063 - acc: 0.9767 - val_loss: 0.0554 - val_acc: 0.9906\n",
            "Epoch 9/50\n",
            "469/469 [==============================] - 23s 49ms/step - loss: 0.1116 - acc: 0.9784 - val_loss: 0.0524 - val_acc: 0.9891\n",
            "Epoch 10/50\n",
            "469/469 [==============================] - 23s 49ms/step - loss: 0.0745 - acc: 0.9843 - val_loss: 0.0260 - val_acc: 0.9936\n",
            "Epoch 11/50\n",
            "469/469 [==============================] - 23s 49ms/step - loss: 0.0704 - acc: 0.9845 - val_loss: 0.0317 - val_acc: 0.9915\n",
            "Epoch 12/50\n",
            "469/469 [==============================] - 23s 49ms/step - loss: 0.0648 - acc: 0.9856 - val_loss: 0.0315 - val_acc: 0.9925\n",
            "Epoch 13/50\n",
            "469/469 [==============================] - 23s 48ms/step - loss: 0.0643 - acc: 0.9860 - val_loss: 0.0295 - val_acc: 0.9938\n",
            "Epoch 14/50\n",
            "469/469 [==============================] - 23s 49ms/step - loss: 0.0671 - acc: 0.9866 - val_loss: 0.0345 - val_acc: 0.9908\n",
            "Epoch 15/50\n",
            "469/469 [==============================] - 23s 50ms/step - loss: 0.0632 - acc: 0.9868 - val_loss: 0.0491 - val_acc: 0.9887\n",
            "Epoch 16/50\n",
            "469/469 [==============================] - 23s 49ms/step - loss: 0.0689 - acc: 0.9866 - val_loss: 0.0333 - val_acc: 0.9928\n",
            "Epoch 17/50\n",
            "469/469 [==============================] - 23s 49ms/step - loss: 0.0463 - acc: 0.9902 - val_loss: 0.0234 - val_acc: 0.9960\n",
            "Epoch 18/50\n",
            "469/469 [==============================] - 23s 49ms/step - loss: 0.0478 - acc: 0.9901 - val_loss: 0.0224 - val_acc: 0.9960\n",
            "Epoch 19/50\n",
            "469/469 [==============================] - 23s 49ms/step - loss: 0.0458 - acc: 0.9911 - val_loss: 0.0239 - val_acc: 0.9953\n",
            "Epoch 20/50\n",
            "469/469 [==============================] - 23s 49ms/step - loss: 0.0406 - acc: 0.9917 - val_loss: 0.0233 - val_acc: 0.9955\n",
            "Epoch 21/50\n",
            "469/469 [==============================] - 23s 50ms/step - loss: 0.0366 - acc: 0.9916 - val_loss: 0.0218 - val_acc: 0.9962\n",
            "Epoch 22/50\n",
            "469/469 [==============================] - 23s 49ms/step - loss: 0.0325 - acc: 0.9928 - val_loss: 0.0242 - val_acc: 0.9957\n",
            "Epoch 23/50\n",
            "469/469 [==============================] - 23s 49ms/step - loss: 0.0364 - acc: 0.9930 - val_loss: 0.0221 - val_acc: 0.9966\n",
            "Epoch 24/50\n",
            "469/469 [==============================] - 23s 49ms/step - loss: 0.0307 - acc: 0.9929 - val_loss: 0.0219 - val_acc: 0.9957\n",
            "Epoch 25/50\n",
            "469/469 [==============================] - 23s 48ms/step - loss: 0.0340 - acc: 0.9927 - val_loss: 0.0223 - val_acc: 0.9966\n",
            "Epoch 26/50\n",
            "469/469 [==============================] - 23s 49ms/step - loss: 0.0360 - acc: 0.9923 - val_loss: 0.0246 - val_acc: 0.9951\n",
            "Epoch 27/50\n",
            "469/469 [==============================] - 23s 49ms/step - loss: 0.0292 - acc: 0.9936 - val_loss: 0.0193 - val_acc: 0.9968\n",
            "Epoch 28/50\n",
            "469/469 [==============================] - 23s 48ms/step - loss: 0.0248 - acc: 0.9948 - val_loss: 0.0207 - val_acc: 0.9968\n",
            "Epoch 29/50\n",
            "469/469 [==============================] - 23s 48ms/step - loss: 0.0313 - acc: 0.9939 - val_loss: 0.0174 - val_acc: 0.9972\n",
            "Epoch 30/50\n",
            "469/469 [==============================] - 23s 49ms/step - loss: 0.0302 - acc: 0.9938 - val_loss: 0.0200 - val_acc: 0.9964\n",
            "Epoch 31/50\n",
            "469/469 [==============================] - 23s 49ms/step - loss: 0.0299 - acc: 0.9934 - val_loss: 0.0191 - val_acc: 0.9960\n",
            "Epoch 32/50\n",
            "469/469 [==============================] - 23s 49ms/step - loss: 0.0304 - acc: 0.9938 - val_loss: 0.0192 - val_acc: 0.9964\n",
            "Epoch 33/50\n",
            "469/469 [==============================] - 23s 49ms/step - loss: 0.0287 - acc: 0.9941 - val_loss: 0.0167 - val_acc: 0.9972\n",
            "Epoch 34/50\n",
            "469/469 [==============================] - 23s 49ms/step - loss: 0.0259 - acc: 0.9945 - val_loss: 0.0173 - val_acc: 0.9966\n",
            "Epoch 35/50\n",
            "469/469 [==============================] - 23s 49ms/step - loss: 0.0264 - acc: 0.9941 - val_loss: 0.0162 - val_acc: 0.9966\n",
            "Epoch 36/50\n",
            "469/469 [==============================] - 23s 49ms/step - loss: 0.0262 - acc: 0.9942 - val_loss: 0.0168 - val_acc: 0.9970\n",
            "Epoch 37/50\n",
            "469/469 [==============================] - 23s 49ms/step - loss: 0.0257 - acc: 0.9941 - val_loss: 0.0160 - val_acc: 0.9977\n",
            "Epoch 38/50\n",
            "469/469 [==============================] - 23s 49ms/step - loss: 0.0245 - acc: 0.9948 - val_loss: 0.0155 - val_acc: 0.9970\n",
            "Epoch 39/50\n",
            "469/469 [==============================] - 22s 48ms/step - loss: 0.0290 - acc: 0.9938 - val_loss: 0.0153 - val_acc: 0.9970\n",
            "Epoch 40/50\n",
            "469/469 [==============================] - 22s 48ms/step - loss: 0.0261 - acc: 0.9951 - val_loss: 0.0153 - val_acc: 0.9970\n",
            "Epoch 41/50\n",
            "469/469 [==============================] - 23s 49ms/step - loss: 0.0243 - acc: 0.9945 - val_loss: 0.0152 - val_acc: 0.9972\n",
            "Epoch 42/50\n",
            "469/469 [==============================] - 23s 48ms/step - loss: 0.0254 - acc: 0.9941 - val_loss: 0.0154 - val_acc: 0.9970\n",
            "Epoch 43/50\n",
            "469/469 [==============================] - 23s 49ms/step - loss: 0.0272 - acc: 0.9947 - val_loss: 0.0151 - val_acc: 0.9972\n",
            "Epoch 44/50\n",
            "469/469 [==============================] - 23s 48ms/step - loss: 0.0270 - acc: 0.9943 - val_loss: 0.0153 - val_acc: 0.9972\n",
            "Epoch 45/50\n",
            "469/469 [==============================] - 23s 48ms/step - loss: 0.0254 - acc: 0.9946 - val_loss: 0.0146 - val_acc: 0.9972\n",
            "Epoch 46/50\n",
            "469/469 [==============================] - 23s 49ms/step - loss: 0.0257 - acc: 0.9945 - val_loss: 0.0143 - val_acc: 0.9972\n",
            "Epoch 47/50\n",
            "469/469 [==============================] - 23s 50ms/step - loss: 0.0251 - acc: 0.9948 - val_loss: 0.0141 - val_acc: 0.9972\n",
            "Epoch 48/50\n",
            "469/469 [==============================] - 23s 49ms/step - loss: 0.0257 - acc: 0.9942 - val_loss: 0.0144 - val_acc: 0.9974\n",
            "Epoch 49/50\n",
            "100/469 [=====>........................] - ETA: 17s - loss: 0.0229 - acc: 0.9949Buffered data was truncated after reaching the output size limit."
          ],
          "name": "stdout"
        }
      ]
    },
    {
      "metadata": {
        "colab_type": "text",
        "id": "-L5IBZyiHM9O"
      },
      "cell_type": "markdown",
      "source": [
        "### Getting the predictions with more probabilities to be correct"
      ]
    },
    {
      "metadata": {
        "colab_type": "code",
        "id": "PecSo_dfHM9S",
        "colab": {}
      },
      "cell_type": "code",
      "source": [
        "label_predicted = np.zeros( (X_test.shape[0], 10) ) \n",
        "\n",
        "for model in range(nets):\n",
        "    label_predicted = label_predicted + digits[model].predict(X_test)\n",
        "    \n",
        "# Get the index with the maximum probability\n",
        "\n",
        "label_predicted = np.argmax(label_predicted, axis = 1)\n",
        "label_predicted = pd.Series(label_predicted, name = \"Label\")"
      ],
      "execution_count": 0,
      "outputs": []
    },
    {
      "metadata": {
        "colab_type": "code",
        "id": "xparMvpNHM9e",
        "colab": {}
      },
      "cell_type": "code",
      "source": [
        "solution = pd.concat([pd.Series(range(1, 28001), name = \"ImageId\"), label_predicted], axis = 1)\n",
        "solution.to_csv(\"solution_cnn_10_2.csv\", index=False)"
      ],
      "execution_count": 0,
      "outputs": []
    },
    {
      "metadata": {
        "colab_type": "code",
        "id": "J9mS0wkYHM9k",
        "colab": {
          "base_uri": "https://localhost:8080/",
          "height": 363
        },
        "outputId": "d8643dbf-be59-4149-fe0d-a6cd6a96f608"
      },
      "cell_type": "code",
      "source": [
        "solution.head(10)"
      ],
      "execution_count": 21,
      "outputs": [
        {
          "output_type": "execute_result",
          "data": {
            "text/html": [
              "<div>\n",
              "<style scoped>\n",
              "    .dataframe tbody tr th:only-of-type {\n",
              "        vertical-align: middle;\n",
              "    }\n",
              "\n",
              "    .dataframe tbody tr th {\n",
              "        vertical-align: top;\n",
              "    }\n",
              "\n",
              "    .dataframe thead th {\n",
              "        text-align: right;\n",
              "    }\n",
              "</style>\n",
              "<table border=\"1\" class=\"dataframe\">\n",
              "  <thead>\n",
              "    <tr style=\"text-align: right;\">\n",
              "      <th></th>\n",
              "      <th>ImageId</th>\n",
              "      <th>Label</th>\n",
              "    </tr>\n",
              "  </thead>\n",
              "  <tbody>\n",
              "    <tr>\n",
              "      <th>0</th>\n",
              "      <td>1</td>\n",
              "      <td>2</td>\n",
              "    </tr>\n",
              "    <tr>\n",
              "      <th>1</th>\n",
              "      <td>2</td>\n",
              "      <td>0</td>\n",
              "    </tr>\n",
              "    <tr>\n",
              "      <th>2</th>\n",
              "      <td>3</td>\n",
              "      <td>9</td>\n",
              "    </tr>\n",
              "    <tr>\n",
              "      <th>3</th>\n",
              "      <td>4</td>\n",
              "      <td>0</td>\n",
              "    </tr>\n",
              "    <tr>\n",
              "      <th>4</th>\n",
              "      <td>5</td>\n",
              "      <td>3</td>\n",
              "    </tr>\n",
              "    <tr>\n",
              "      <th>5</th>\n",
              "      <td>6</td>\n",
              "      <td>7</td>\n",
              "    </tr>\n",
              "    <tr>\n",
              "      <th>6</th>\n",
              "      <td>7</td>\n",
              "      <td>0</td>\n",
              "    </tr>\n",
              "    <tr>\n",
              "      <th>7</th>\n",
              "      <td>8</td>\n",
              "      <td>3</td>\n",
              "    </tr>\n",
              "    <tr>\n",
              "      <th>8</th>\n",
              "      <td>9</td>\n",
              "      <td>0</td>\n",
              "    </tr>\n",
              "    <tr>\n",
              "      <th>9</th>\n",
              "      <td>10</td>\n",
              "      <td>3</td>\n",
              "    </tr>\n",
              "  </tbody>\n",
              "</table>\n",
              "</div>"
            ],
            "text/plain": [
              "   ImageId  Label\n",
              "0        1      2\n",
              "1        2      0\n",
              "2        3      9\n",
              "3        4      0\n",
              "4        5      3\n",
              "5        6      7\n",
              "6        7      0\n",
              "7        8      3\n",
              "8        9      0\n",
              "9       10      3"
            ]
          },
          "metadata": {
            "tags": []
          },
          "execution_count": 21
        }
      ]
    },
    {
      "metadata": {
        "colab_type": "code",
        "id": "zNIl0kDa4AeA",
        "colab": {}
      },
      "cell_type": "code",
      "source": [
        "from google.colab import files\n",
        "files.download('solution_cnn_10_2.csv')"
      ],
      "execution_count": 0,
      "outputs": []
    },
    {
      "metadata": {
        "colab_type": "text",
        "id": "e5s6JHRoHM9s"
      },
      "cell_type": "markdown",
      "source": [
        "### Saving the models"
      ]
    },
    {
      "metadata": {
        "colab_type": "code",
        "id": "ZwYT9t_lHM9t",
        "colab": {}
      },
      "cell_type": "code",
      "source": [
        "for model in range(nets):\n",
        "    model_saved = digits[model].to_json()\n",
        "    name = 'model_' + str(model) + '.json'\n",
        "    with open(name, 'w') as json_file:\n",
        "        json_file.write(model_saved)\n",
        "    name = 'model_' + str(model) + '.h5'\n",
        "    digits[model].save_weights(name)"
      ],
      "execution_count": 0,
      "outputs": []
    }
  ]
}