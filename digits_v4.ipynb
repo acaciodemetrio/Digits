{
 "cells": [
  {
   "cell_type": "code",
   "execution_count": 1,
   "metadata": {},
   "outputs": [
    {
     "name": "stderr",
     "output_type": "stream",
     "text": [
      "Using TensorFlow backend.\n"
     ]
    }
   ],
   "source": [
    "%matplotlib inline\n",
    "\n",
    "import pandas as pd\n",
    "import numpy as np\n",
    "import matplotlib.pyplot as plt\n",
    "import seaborn as sns\n",
    "\n",
    "from collections import Counter\n",
    "from sklearn.model_selection import train_test_split\n",
    "\n",
    "from keras.utils.np_utils import to_categorical\n",
    "from keras.models import Sequential\n",
    "from keras.layers import Dense, Dropout, Flatten, Conv2D, MaxPool2D\n",
    "from keras.optimizers import RMSprop\n",
    "from keras.preprocessing.image import ImageDataGenerator\n",
    "from keras.callbacks import ReduceLROnPlateau\n",
    "\n",
    "import warnings\n",
    "warnings.filterwarnings(\"ignore\")\n",
    "\n",
    "# My seed\n",
    "\n",
    "seed = 42"
   ]
  },
  {
   "cell_type": "markdown",
   "metadata": {},
   "source": [
    "### Loading the training and test dataset"
   ]
  },
  {
   "cell_type": "code",
   "execution_count": 2,
   "metadata": {},
   "outputs": [],
   "source": [
    "df_train = pd.read_csv('train.csv')\n",
    "df_test  = pd.read_csv('test.csv')"
   ]
  },
  {
   "cell_type": "code",
   "execution_count": 3,
   "metadata": {},
   "outputs": [
    {
     "name": "stdout",
     "output_type": "stream",
     "text": [
      "<class 'pandas.core.frame.DataFrame'>\n",
      "RangeIndex: 42000 entries, 0 to 41999\n",
      "Columns: 785 entries, label to pixel783\n",
      "dtypes: int64(785)\n",
      "memory usage: 251.5 MB\n"
     ]
    }
   ],
   "source": [
    "df_train.info()"
   ]
  },
  {
   "cell_type": "code",
   "execution_count": 4,
   "metadata": {},
   "outputs": [
    {
     "name": "stdout",
     "output_type": "stream",
     "text": [
      "<class 'pandas.core.frame.DataFrame'>\n",
      "RangeIndex: 28000 entries, 0 to 27999\n",
      "Columns: 784 entries, pixel0 to pixel783\n",
      "dtypes: int64(784)\n",
      "memory usage: 167.5 MB\n"
     ]
    }
   ],
   "source": [
    "df_test.info()"
   ]
  },
  {
   "cell_type": "markdown",
   "metadata": {},
   "source": [
    "### Spliting the dataset"
   ]
  },
  {
   "cell_type": "code",
   "execution_count": 5,
   "metadata": {},
   "outputs": [
    {
     "name": "stdout",
     "output_type": "stream",
     "text": [
      "Shape of X_train: (42000, 784)\n",
      "Shape of y_train: (42000,)\n",
      "Shape of X_test : (28000, 784)\n"
     ]
    }
   ],
   "source": [
    "X_train = df_train.drop(['label'], axis=1)\n",
    "y_train = df_train['label']\n",
    "X_test = df_test\n",
    "\n",
    "# Free memory space\n",
    "\n",
    "del df_train\n",
    "del df_test\n",
    "\n",
    "print('Shape of X_train:', X_train.shape)\n",
    "print('Shape of y_train:', y_train.shape)\n",
    "print('Shape of X_test :', X_test.shape)"
   ]
  },
  {
   "cell_type": "markdown",
   "metadata": {},
   "source": [
    "### Counting the labels"
   ]
  },
  {
   "cell_type": "code",
   "execution_count": 6,
   "metadata": {},
   "outputs": [
    {
     "data": {
      "text/plain": [
       "Counter({0: 4132,\n",
       "         1: 4684,\n",
       "         2: 4177,\n",
       "         3: 4351,\n",
       "         4: 4072,\n",
       "         5: 3795,\n",
       "         6: 4137,\n",
       "         7: 4401,\n",
       "         8: 4063,\n",
       "         9: 4188})"
      ]
     },
     "execution_count": 6,
     "metadata": {},
     "output_type": "execute_result"
    }
   ],
   "source": [
    "counter = Counter(y_train)\n",
    "counter"
   ]
  },
  {
   "cell_type": "markdown",
   "metadata": {},
   "source": [
    "### Normalizing the values of training and test"
   ]
  },
  {
   "cell_type": "code",
   "execution_count": 7,
   "metadata": {},
   "outputs": [],
   "source": [
    "X_train = X_train / 255\n",
    "X_test = X_test / 255"
   ]
  },
  {
   "cell_type": "markdown",
   "metadata": {},
   "source": [
    "### Reshape the images in 3 dimensions to use with Keras"
   ]
  },
  {
   "cell_type": "code",
   "execution_count": 8,
   "metadata": {},
   "outputs": [
    {
     "name": "stdout",
     "output_type": "stream",
     "text": [
      "Shape of X_train: (42000, 28, 28, 1)\n",
      "Shape of X_test : (28000, 28, 28, 1)\n"
     ]
    }
   ],
   "source": [
    "X_train = X_train.values.reshape(-1,28,28,1) # (height = 28px, width = 28px , canal = 1)\n",
    "X_test = X_test.values.reshape(-1,28,28,1)\n",
    "\n",
    "print('Shape of X_train:', X_train.shape)\n",
    "print('Shape of X_test :', X_test.shape)"
   ]
  },
  {
   "cell_type": "markdown",
   "metadata": {},
   "source": [
    "### Converting y values (labels) to categorical values"
   ]
  },
  {
   "cell_type": "code",
   "execution_count": 9,
   "metadata": {},
   "outputs": [
    {
     "data": {
      "text/plain": [
       "array([[ 0.,  1.,  0., ...,  0.,  0.,  0.],\n",
       "       [ 1.,  0.,  0., ...,  0.,  0.,  0.],\n",
       "       [ 0.,  1.,  0., ...,  0.,  0.,  0.],\n",
       "       ..., \n",
       "       [ 0.,  0.,  0., ...,  1.,  0.,  0.],\n",
       "       [ 0.,  0.,  0., ...,  0.,  0.,  0.],\n",
       "       [ 0.,  0.,  0., ...,  0.,  0.,  1.]], dtype=float32)"
      ]
     },
     "execution_count": 9,
     "metadata": {},
     "output_type": "execute_result"
    }
   ],
   "source": [
    "y_train = to_categorical(y_train, num_classes = 10)\n",
    "y_train"
   ]
  },
  {
   "cell_type": "markdown",
   "metadata": {},
   "source": [
    "### Splitting the values into train and validation"
   ]
  },
  {
   "cell_type": "code",
   "execution_count": 10,
   "metadata": {},
   "outputs": [],
   "source": [
    "X_train, X_val, y_train, y_val = train_test_split(X_train, y_train, test_size = 0.1, random_state=seed)"
   ]
  },
  {
   "cell_type": "markdown",
   "metadata": {},
   "source": [
    "### Define the baseline neural network model"
   ]
  },
  {
   "cell_type": "code",
   "execution_count": 11,
   "metadata": {},
   "outputs": [],
   "source": [
    "def baseline_model():\n",
    "    \n",
    "    # Create model\n",
    "    \n",
    "    model = Sequential()\n",
    "\n",
    "    #---------------------------------------------------------------------------------------------------\n",
    "    \n",
    "    # 32 filters for the two firsts conv2D layers\n",
    "    \n",
    "    model.add(Conv2D(filters = 32, kernel_size = (5,5),padding = 'Same', activation ='relu', \n",
    "                     input_shape = (28, 28, 1)))\n",
    "    model.add(Conv2D(filters = 32, kernel_size = (5,5),padding = 'Same', activation ='relu'))\n",
    "    \n",
    "    # This layer simply acts as a downsampling filter. \n",
    "    # It looks at the 2 neighboring pixels and picks the maximal value, reducing computational cost, \n",
    "    # and to some extent also reduce overfitting.\n",
    "    \n",
    "    # IMPORTANT: Combining convolutional and pooling layers, CNN are able to combine local features and \n",
    "    # learn more global features of the image.\n",
    "    \n",
    "    model.add(MaxPool2D(pool_size=(2,2)))\n",
    "    \n",
    "    # Dropout is a regularization method, where a proportion of nodes (25%) in the layer are randomly ignored \n",
    "    # for each training sample. This dropout forces the network to learn features in a distributed way \n",
    "    # and improves generalization and reduces the overfitting.\n",
    "    \n",
    "    model.add(Dropout(0.25))\n",
    "    #---------------------------------------------------------------------------------------------------\n",
    "    \n",
    "    # 64 filters for the two last conv2D layers\n",
    "    \n",
    "    model.add(Conv2D(filters = 64, kernel_size = (3,3), padding = 'Same', activation ='relu'))\n",
    "    model.add(Conv2D(filters = 64, kernel_size = (3,3), padding = 'Same', activation ='relu'))\n",
    "    \n",
    "    model.add(MaxPool2D(pool_size=(2,2), strides=(2,2)))\n",
    "    model.add(Dropout(0.25))\n",
    "    #---------------------------------------------------------------------------------------------------\n",
    "\n",
    "    # The Flatten layer is use to convert the final feature maps into a one single 1D vector. \n",
    "    # IMPORTANT: It combines all the found local features of the previous convolutional layers.\n",
    "    \n",
    "    model.add(Flatten())\n",
    "    \n",
    "    model.add(Dense(256, activation = \"relu\"))\n",
    "    \n",
    "    model.add(Dropout(0.5))\n",
    "    \n",
    "    # The net outputs distribution of probability of each class --> In our case, 10 output classes\n",
    "    \n",
    "    model.add(Dense(10, activation = \"softmax\"))\n",
    "    \n",
    "    # The optimizer will iteratively improve parameters in order to minimize the loss.\n",
    "    \n",
    "    optimizer = RMSprop(epsilon=1e-08)\n",
    "\n",
    "    # Compile the model including the optimizer and evaluating the performance of the model by accuracy\n",
    "    \n",
    "    model.compile(optimizer = optimizer , loss = \"categorical_crossentropy\", metrics=[\"accuracy\"])\n",
    "    \n",
    "    return model"
   ]
  },
  {
   "cell_type": "markdown",
   "metadata": {},
   "source": [
    "### Learning Rate"
   ]
  },
  {
   "cell_type": "code",
   "execution_count": 12,
   "metadata": {},
   "outputs": [],
   "source": [
    "# If after the third epoch we didn't have an improvement of accuracy, the learning rate will be \n",
    "# reduced by 50% (factor).\n",
    "\n",
    "lr_reduction = ReduceLROnPlateau(monitor='val_acc', \n",
    "                                            patience=3, \n",
    "                                            verbose=1, \n",
    "                                            factor=0.5, \n",
    "                                            min_lr=0.00001)"
   ]
  },
  {
   "cell_type": "markdown",
   "metadata": {},
   "source": [
    "### Data augmentation"
   ]
  },
  {
   "cell_type": "code",
   "execution_count": 13,
   "metadata": {},
   "outputs": [],
   "source": [
    "# The idea is to alter the training data with small transformations to reproduce the variations \n",
    "# occuring when someone is writing a digit. It's a way to minimize the overfitting of the model.\n",
    "\n",
    "generator = ImageDataGenerator(featurewise_center = False,\n",
    "                               samplewise_center = False, \n",
    "                               featurewise_std_normalization = False,\n",
    "                               samplewise_std_normalization = False,\n",
    "                               zca_whitening = False,\n",
    "                               rotation_range = 10, # Rotate image in 10 degrees\n",
    "                               zoom_range = 0.1, # Zoom image (10% zoom) \n",
    "                               width_shift_range = 0.1, # Shift image horizontally (10% of width)\n",
    "                               height_shift_range = 0.1, # Shift image vertically (10% of height)\n",
    "                               horizontal_flip = False,\n",
    "                               vertical_flip = False)\n",
    "\n",
    "generator.fit(X_train)"
   ]
  },
  {
   "cell_type": "markdown",
   "metadata": {},
   "source": [
    "### Fitting the model"
   ]
  },
  {
   "cell_type": "code",
   "execution_count": 14,
   "metadata": {},
   "outputs": [],
   "source": [
    "epochs = 60\n",
    "batch_size = 90"
   ]
  },
  {
   "cell_type": "code",
   "execution_count": 15,
   "metadata": {},
   "outputs": [
    {
     "name": "stdout",
     "output_type": "stream",
     "text": [
      "Epoch 1/60\n",
      "420/420 [==============================] - 323s 770ms/step - loss: 0.4319 - acc: 0.8613 - val_loss: 0.0668 - val_acc: 0.9793\n",
      "Epoch 2/60\n",
      "420/420 [==============================] - 350s 834ms/step - loss: 0.1295 - acc: 0.9609 - val_loss: 0.0438 - val_acc: 0.9879\n",
      "Epoch 3/60\n",
      "420/420 [==============================] - 368s 876ms/step - loss: 0.0913 - acc: 0.9729 - val_loss: 0.0363 - val_acc: 0.9900\n",
      "Epoch 4/60\n",
      "420/420 [==============================] - 357s 851ms/step - loss: 0.0795 - acc: 0.9767 - val_loss: 0.0328 - val_acc: 0.9905\n",
      "Epoch 5/60\n",
      "420/420 [==============================] - 378s 900ms/step - loss: 0.0696 - acc: 0.9790 - val_loss: 0.0342 - val_acc: 0.9890\n",
      "Epoch 6/60\n",
      "420/420 [==============================] - 379s 901ms/step - loss: 0.0659 - acc: 0.9807 - val_loss: 0.0288 - val_acc: 0.9919\n",
      "Epoch 7/60\n",
      "420/420 [==============================] - 376s 895ms/step - loss: 0.0608 - acc: 0.9826 - val_loss: 0.0308 - val_acc: 0.9917\n",
      "Epoch 8/60\n",
      "420/420 [==============================] - 375s 893ms/step - loss: 0.0584 - acc: 0.9828 - val_loss: 0.0289 - val_acc: 0.9910\n",
      "Epoch 9/60\n",
      "420/420 [==============================] - 388s 924ms/step - loss: 0.0574 - acc: 0.9838 - val_loss: 0.0303 - val_acc: 0.9914\n",
      "\n",
      "Epoch 00009: ReduceLROnPlateau reducing learning rate to 0.0005000000237487257.\n",
      "Epoch 10/60\n",
      "420/420 [==============================] - 399s 949ms/step - loss: 0.0452 - acc: 0.9869 - val_loss: 0.0204 - val_acc: 0.9933\n",
      "Epoch 11/60\n",
      "420/420 [==============================] - 391s 931ms/step - loss: 0.0415 - acc: 0.9881 - val_loss: 0.0231 - val_acc: 0.9924\n",
      "Epoch 12/60\n",
      "420/420 [==============================] - 399s 950ms/step - loss: 0.0423 - acc: 0.9880 - val_loss: 0.0218 - val_acc: 0.9929\n",
      "Epoch 13/60\n",
      "420/420 [==============================] - 393s 936ms/step - loss: 0.0424 - acc: 0.9879 - val_loss: 0.0262 - val_acc: 0.9933\n",
      "\n",
      "Epoch 00013: ReduceLROnPlateau reducing learning rate to 0.0002500000118743628.\n",
      "Epoch 14/60\n",
      "420/420 [==============================] - 388s 923ms/step - loss: 0.0374 - acc: 0.9894 - val_loss: 0.0223 - val_acc: 0.9938\n",
      "Epoch 15/60\n",
      "420/420 [==============================] - 382s 910ms/step - loss: 0.0348 - acc: 0.9901 - val_loss: 0.0193 - val_acc: 0.9933\n",
      "Epoch 16/60\n",
      "420/420 [==============================] - 383s 912ms/step - loss: 0.0331 - acc: 0.9901 - val_loss: 0.0178 - val_acc: 0.9948\n",
      "Epoch 17/60\n",
      "420/420 [==============================] - 386s 918ms/step - loss: 0.0323 - acc: 0.9903 - val_loss: 0.0177 - val_acc: 0.9938\n",
      "Epoch 18/60\n",
      "420/420 [==============================] - 380s 905ms/step - loss: 0.0314 - acc: 0.9913 - val_loss: 0.0182 - val_acc: 0.9950\n",
      "Epoch 19/60\n",
      "420/420 [==============================] - 387s 921ms/step - loss: 0.0333 - acc: 0.9906 - val_loss: 0.0160 - val_acc: 0.9948\n",
      "Epoch 20/60\n",
      "420/420 [==============================] - 379s 903ms/step - loss: 0.0320 - acc: 0.9910 - val_loss: 0.0168 - val_acc: 0.9945\n",
      "Epoch 21/60\n",
      "420/420 [==============================] - 382s 909ms/step - loss: 0.0339 - acc: 0.9906 - val_loss: 0.0186 - val_acc: 0.9938\n",
      "\n",
      "Epoch 00021: ReduceLROnPlateau reducing learning rate to 0.0001250000059371814.\n",
      "Epoch 22/60\n",
      "420/420 [==============================] - 380s 906ms/step - loss: 0.0298 - acc: 0.9911 - val_loss: 0.0169 - val_acc: 0.9945\n",
      "Epoch 23/60\n",
      "420/420 [==============================] - 377s 899ms/step - loss: 0.0281 - acc: 0.9921 - val_loss: 0.0162 - val_acc: 0.9957\n",
      "Epoch 24/60\n",
      "420/420 [==============================] - 384s 914ms/step - loss: 0.0300 - acc: 0.9911 - val_loss: 0.0161 - val_acc: 0.9943\n",
      "Epoch 25/60\n",
      "420/420 [==============================] - 379s 902ms/step - loss: 0.0279 - acc: 0.9922 - val_loss: 0.0150 - val_acc: 0.9952\n",
      "Epoch 26/60\n",
      "420/420 [==============================] - 345s 821ms/step - loss: 0.0288 - acc: 0.9922 - val_loss: 0.0157 - val_acc: 0.9950\n",
      "\n",
      "Epoch 00026: ReduceLROnPlateau reducing learning rate to 6.25000029685907e-05.\n",
      "Epoch 27/60\n",
      "420/420 [==============================] - 348s 828ms/step - loss: 0.0254 - acc: 0.9925 - val_loss: 0.0168 - val_acc: 0.9945\n",
      "Epoch 28/60\n",
      "420/420 [==============================] - 346s 823ms/step - loss: 0.0262 - acc: 0.9927 - val_loss: 0.0170 - val_acc: 0.9957\n",
      "Epoch 29/60\n",
      "420/420 [==============================] - 348s 829ms/step - loss: 0.0269 - acc: 0.9920 - val_loss: 0.0171 - val_acc: 0.9952\n",
      "\n",
      "Epoch 00029: ReduceLROnPlateau reducing learning rate to 3.125000148429535e-05.\n",
      "Epoch 30/60\n",
      "420/420 [==============================] - 353s 840ms/step - loss: 0.0251 - acc: 0.9929 - val_loss: 0.0162 - val_acc: 0.9955\n",
      "Epoch 31/60\n",
      "420/420 [==============================] - 361s 859ms/step - loss: 0.0273 - acc: 0.9922 - val_loss: 0.0163 - val_acc: 0.9957\n",
      "Epoch 32/60\n",
      "420/420 [==============================] - 353s 840ms/step - loss: 0.0259 - acc: 0.9926 - val_loss: 0.0163 - val_acc: 0.9952\n",
      "\n",
      "Epoch 00032: ReduceLROnPlateau reducing learning rate to 1.5625000742147677e-05.\n",
      "Epoch 33/60\n",
      "420/420 [==============================] - 358s 851ms/step - loss: 0.0259 - acc: 0.9926 - val_loss: 0.0158 - val_acc: 0.9957\n",
      "Epoch 34/60\n",
      "420/420 [==============================] - 360s 858ms/step - loss: 0.0256 - acc: 0.9931 - val_loss: 0.0157 - val_acc: 0.9957\n",
      "Epoch 35/60\n",
      "420/420 [==============================] - 364s 866ms/step - loss: 0.0244 - acc: 0.9931 - val_loss: 0.0160 - val_acc: 0.9957\n",
      "\n",
      "Epoch 00035: ReduceLROnPlateau reducing learning rate to 1e-05.\n",
      "Epoch 36/60\n",
      "420/420 [==============================] - 360s 857ms/step - loss: 0.0256 - acc: 0.9925 - val_loss: 0.0156 - val_acc: 0.9955\n",
      "Epoch 37/60\n",
      "420/420 [==============================] - 356s 847ms/step - loss: 0.0250 - acc: 0.9926 - val_loss: 0.0158 - val_acc: 0.9957\n",
      "Epoch 38/60\n",
      "420/420 [==============================] - 357s 850ms/step - loss: 0.0254 - acc: 0.9928 - val_loss: 0.0160 - val_acc: 0.9960\n",
      "Epoch 39/60\n",
      "420/420 [==============================] - 355s 846ms/step - loss: 0.0230 - acc: 0.9932 - val_loss: 0.0159 - val_acc: 0.9955\n",
      "Epoch 40/60\n",
      "420/420 [==============================] - 359s 855ms/step - loss: 0.0256 - acc: 0.9924 - val_loss: 0.0158 - val_acc: 0.9955\n",
      "Epoch 41/60\n",
      "420/420 [==============================] - 1096s 3s/step - loss: 0.0244 - acc: 0.9933 - val_loss: 0.0158 - val_acc: 0.9955\n",
      "Epoch 42/60\n",
      "420/420 [==============================] - 318s 758ms/step - loss: 0.0251 - acc: 0.9923 - val_loss: 0.0157 - val_acc: 0.9955\n",
      "Epoch 43/60\n",
      "420/420 [==============================] - 338s 806ms/step - loss: 0.0235 - acc: 0.9925 - val_loss: 0.0157 - val_acc: 0.9952\n",
      "Epoch 44/60\n",
      "420/420 [==============================] - 349s 832ms/step - loss: 0.0257 - acc: 0.9924 - val_loss: 0.0157 - val_acc: 0.9955\n",
      "Epoch 45/60\n",
      "420/420 [==============================] - 358s 853ms/step - loss: 0.0250 - acc: 0.9928 - val_loss: 0.0153 - val_acc: 0.9955\n",
      "Epoch 46/60\n",
      "420/420 [==============================] - 358s 853ms/step - loss: 0.0260 - acc: 0.9929 - val_loss: 0.0153 - val_acc: 0.9955\n",
      "Epoch 47/60\n",
      "420/420 [==============================] - 363s 864ms/step - loss: 0.0250 - acc: 0.9928 - val_loss: 0.0155 - val_acc: 0.9950\n",
      "Epoch 48/60\n",
      "420/420 [==============================] - 363s 864ms/step - loss: 0.0252 - acc: 0.9933 - val_loss: 0.0154 - val_acc: 0.9952\n",
      "Epoch 49/60\n",
      "420/420 [==============================] - 365s 869ms/step - loss: 0.0263 - acc: 0.9926 - val_loss: 0.0153 - val_acc: 0.9955\n",
      "Epoch 50/60\n",
      "420/420 [==============================] - 377s 897ms/step - loss: 0.0250 - acc: 0.9926 - val_loss: 0.0154 - val_acc: 0.9955\n",
      "Epoch 51/60\n",
      "420/420 [==============================] - 392s 933ms/step - loss: 0.0259 - acc: 0.9931 - val_loss: 0.0153 - val_acc: 0.9952\n",
      "Epoch 52/60\n",
      "420/420 [==============================] - 382s 909ms/step - loss: 0.0274 - acc: 0.9921 - val_loss: 0.0150 - val_acc: 0.9960\n",
      "Epoch 53/60\n",
      "420/420 [==============================] - 378s 900ms/step - loss: 0.0266 - acc: 0.9929 - val_loss: 0.0153 - val_acc: 0.9960\n",
      "Epoch 54/60\n",
      "420/420 [==============================] - 385s 916ms/step - loss: 0.0263 - acc: 0.9921 - val_loss: 0.0151 - val_acc: 0.9955\n",
      "Epoch 55/60\n",
      "420/420 [==============================] - 384s 915ms/step - loss: 0.0257 - acc: 0.9929 - val_loss: 0.0155 - val_acc: 0.9957\n",
      "Epoch 56/60\n",
      "420/420 [==============================] - 386s 920ms/step - loss: 0.0257 - acc: 0.9924 - val_loss: 0.0154 - val_acc: 0.9962\n"
     ]
    },
    {
     "name": "stdout",
     "output_type": "stream",
     "text": [
      "Epoch 57/60\n",
      "420/420 [==============================] - 376s 895ms/step - loss: 0.0250 - acc: 0.9932 - val_loss: 0.0149 - val_acc: 0.9955\n",
      "Epoch 58/60\n",
      "420/420 [==============================] - 385s 917ms/step - loss: 0.0254 - acc: 0.9930 - val_loss: 0.0151 - val_acc: 0.9957\n",
      "Epoch 59/60\n",
      "420/420 [==============================] - 385s 917ms/step - loss: 0.0250 - acc: 0.9933 - val_loss: 0.0153 - val_acc: 0.9957\n",
      "Epoch 60/60\n",
      "420/420 [==============================] - 375s 894ms/step - loss: 0.0239 - acc: 0.9931 - val_loss: 0.0155 - val_acc: 0.9955\n"
     ]
    }
   ],
   "source": [
    "digits = baseline_model()\n",
    "history = digits.fit_generator(generator.flow(X_train, y_train, batch_size = batch_size),\n",
    "                               epochs = epochs,\n",
    "                               validation_data = (X_val, y_val),\n",
    "                               verbose = 1, \n",
    "                               steps_per_epoch = X_train.shape[0]//batch_size,\n",
    "                               callbacks=[lr_reduction])"
   ]
  },
  {
   "cell_type": "code",
   "execution_count": 16,
   "metadata": {},
   "outputs": [],
   "source": [
    "label_predicted = digits.predict(X_test)\n",
    "\n",
    "# Get the index with the maximum probability\n",
    "\n",
    "label_predicted = np.argmax(label_predicted, axis = 1)\n",
    "\n",
    "label_predicted = pd.Series(label_predicted, name = \"Label\")"
   ]
  },
  {
   "cell_type": "code",
   "execution_count": 17,
   "metadata": {},
   "outputs": [],
   "source": [
    "solution = pd.concat([pd.Series(range(1, 28001), name = \"ImageId\"), label_predicted], axis = 1)\n",
    "solution.to_csv(\"solution_cnn_v5.csv\", index=False)"
   ]
  },
  {
   "cell_type": "code",
   "execution_count": 18,
   "metadata": {},
   "outputs": [
    {
     "data": {
      "text/html": [
       "<div>\n",
       "<style scoped>\n",
       "    .dataframe tbody tr th:only-of-type {\n",
       "        vertical-align: middle;\n",
       "    }\n",
       "\n",
       "    .dataframe tbody tr th {\n",
       "        vertical-align: top;\n",
       "    }\n",
       "\n",
       "    .dataframe thead th {\n",
       "        text-align: right;\n",
       "    }\n",
       "</style>\n",
       "<table border=\"1\" class=\"dataframe\">\n",
       "  <thead>\n",
       "    <tr style=\"text-align: right;\">\n",
       "      <th></th>\n",
       "      <th>ImageId</th>\n",
       "      <th>Label</th>\n",
       "    </tr>\n",
       "  </thead>\n",
       "  <tbody>\n",
       "    <tr>\n",
       "      <th>0</th>\n",
       "      <td>1</td>\n",
       "      <td>2</td>\n",
       "    </tr>\n",
       "    <tr>\n",
       "      <th>1</th>\n",
       "      <td>2</td>\n",
       "      <td>0</td>\n",
       "    </tr>\n",
       "    <tr>\n",
       "      <th>2</th>\n",
       "      <td>3</td>\n",
       "      <td>9</td>\n",
       "    </tr>\n",
       "    <tr>\n",
       "      <th>3</th>\n",
       "      <td>4</td>\n",
       "      <td>0</td>\n",
       "    </tr>\n",
       "    <tr>\n",
       "      <th>4</th>\n",
       "      <td>5</td>\n",
       "      <td>3</td>\n",
       "    </tr>\n",
       "  </tbody>\n",
       "</table>\n",
       "</div>"
      ],
      "text/plain": [
       "   ImageId  Label\n",
       "0        1      2\n",
       "1        2      0\n",
       "2        3      9\n",
       "3        4      0\n",
       "4        5      3"
      ]
     },
     "execution_count": 18,
     "metadata": {},
     "output_type": "execute_result"
    }
   ],
   "source": [
    "solution.head()"
   ]
  },
  {
   "cell_type": "code",
   "execution_count": null,
   "metadata": {},
   "outputs": [],
   "source": []
  }
 ],
 "metadata": {
  "kernelspec": {
   "display_name": "Python 3",
   "language": "python",
   "name": "python3"
  },
  "language_info": {
   "codemirror_mode": {
    "name": "ipython",
    "version": 3
   },
   "file_extension": ".py",
   "mimetype": "text/x-python",
   "name": "python",
   "nbconvert_exporter": "python",
   "pygments_lexer": "ipython3",
   "version": "3.6.4"
  }
 },
 "nbformat": 4,
 "nbformat_minor": 2
}
