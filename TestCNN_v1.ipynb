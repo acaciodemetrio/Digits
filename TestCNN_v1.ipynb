{
 "cells": [
  {
   "cell_type": "code",
   "execution_count": 2,
   "metadata": {
    "colab": {
     "base_uri": "https://localhost:8080/",
     "height": 298
    },
    "colab_type": "code",
    "id": "IlReI-Y_QGBZ",
    "outputId": "501ef43b-5e09-48ba-95dc-91fdf692f6d1"
   },
   "outputs": [
    {
     "name": "stdout",
     "output_type": "stream",
     "text": [
      "Collecting imblearn\n",
      "  Downloading https://files.pythonhosted.org/packages/81/a7/4179e6ebfd654bd0eac0b9c06125b8b4c96a9d0a8ff9e9507eb2a26d2d7e/imblearn-0.0-py2.py3-none-any.whl\n",
      "Collecting imbalanced-learn (from imblearn)\n",
      "\u001b[?25l  Downloading https://files.pythonhosted.org/packages/c5/ea/f027ceb21114abe8189a2804640b2d5dd49a7a271c4814695482c5bc94d8/imbalanced_learn-0.4.2-py3-none-any.whl (166kB)\n",
      "\r",
      "\u001b[K    6% |██                              | 10kB 25.1MB/s eta 0:00:01\r",
      "\u001b[K    12% |████                            | 20kB 4.3MB/s eta 0:00:01\r",
      "\u001b[K    18% |██████                          | 30kB 6.1MB/s eta 0:00:01\r",
      "\u001b[K    24% |████████                        | 40kB 4.0MB/s eta 0:00:01\r",
      "\u001b[K    30% |█████████▉                      | 51kB 4.9MB/s eta 0:00:01\r",
      "\u001b[K    36% |███████████▉                    | 61kB 5.7MB/s eta 0:00:01\r",
      "\u001b[K    43% |█████████████▉                  | 71kB 6.5MB/s eta 0:00:01\r",
      "\u001b[K    49% |███████████████▉                | 81kB 7.2MB/s eta 0:00:01\r",
      "\u001b[K    55% |█████████████████▊              | 92kB 8.0MB/s eta 0:00:01\r",
      "\u001b[K    61% |███████████████████▊            | 102kB 6.5MB/s eta 0:00:01\r",
      "\u001b[K    67% |█████████████████████▊          | 112kB 6.5MB/s eta 0:00:01\r",
      "\u001b[K    73% |███████████████████████▊        | 122kB 8.9MB/s eta 0:00:01\r",
      "\u001b[K    80% |█████████████████████████▋      | 133kB 8.8MB/s eta 0:00:01\r",
      "\u001b[K    86% |███████████████████████████▋    | 143kB 15.6MB/s eta 0:00:01\r",
      "\u001b[K    92% |█████████████████████████████▋  | 153kB 15.7MB/s eta 0:00:01\r",
      "\u001b[K    98% |███████████████████████████████▋| 163kB 15.8MB/s eta 0:00:01\r",
      "\u001b[K    100% |████████████████████████████████| 174kB 13.1MB/s \n",
      "\u001b[?25hCollecting scikit-learn>=0.20 (from imbalanced-learn->imblearn)\n",
      "\u001b[?25l  Downloading https://files.pythonhosted.org/packages/0c/b2/05be9b6da9ae4a4c54f537be22e95833f722742a02b1e355fdc09363877c/scikit_learn-0.20.0-cp36-cp36m-manylinux1_x86_64.whl (5.3MB)\n",
      "\u001b[K    100% |████████████████████████████████| 5.3MB 7.3MB/s \n",
      "\u001b[?25hRequirement already satisfied: scipy>=0.13.3 in /usr/local/lib/python3.6/dist-packages (from imbalanced-learn->imblearn) (0.19.1)\n",
      "Requirement already satisfied: numpy>=1.8.2 in /usr/local/lib/python3.6/dist-packages (from imbalanced-learn->imblearn) (1.14.6)\n",
      "Installing collected packages: scikit-learn, imbalanced-learn, imblearn\n",
      "  Found existing installation: scikit-learn 0.19.2\n",
      "    Uninstalling scikit-learn-0.19.2:\n",
      "      Successfully uninstalled scikit-learn-0.19.2\n",
      "Successfully installed imbalanced-learn-0.4.2 imblearn-0.0 scikit-learn-0.20.0\n"
     ]
    }
   ],
   "source": [
    "!pip install imblearn"
   ]
  },
  {
   "cell_type": "code",
   "execution_count": 3,
   "metadata": {
    "colab": {
     "base_uri": "https://localhost:8080/",
     "height": 34
    },
    "colab_type": "code",
    "id": "FixzSGnQmoac",
    "outputId": "1f3ab035-7303-4913-dd10-950852d4c2f2"
   },
   "outputs": [
    {
     "name": "stderr",
     "output_type": "stream",
     "text": [
      "Using TensorFlow backend.\n"
     ]
    }
   ],
   "source": [
    "%matplotlib inline\n",
    "\n",
    "import pandas as pd\n",
    "import numpy as np\n",
    "\n",
    "from collections import Counter\n",
    "from sklearn.model_selection import train_test_split\n",
    "\n",
    "from keras.utils.np_utils import to_categorical\n",
    "from keras.models import Sequential\n",
    "from keras.layers import Dense, Dropout, Flatten, Conv2D, MaxPool2D, BatchNormalization\n",
    "from keras.optimizers import RMSprop\n",
    "from keras.preprocessing.image import ImageDataGenerator\n",
    "from keras.callbacks import ReduceLROnPlateau\n",
    "\n",
    "from keras.models import model_from_json\n",
    "\n",
    "import warnings\n",
    "warnings.filterwarnings(\"ignore\")\n",
    "\n",
    "import io\n",
    "from google.colab import files\n",
    "\n",
    "# My seed\n",
    "\n",
    "seed = 42"
   ]
  },
  {
   "cell_type": "markdown",
   "metadata": {
    "colab_type": "text",
    "id": "bsas2EsBQ_MR"
   },
   "source": [
    "### Uploading training dataset"
   ]
  },
  {
   "cell_type": "code",
   "execution_count": 4,
   "metadata": {
    "colab": {
     "base_uri": "https://localhost:8080/",
     "height": 79,
     "resources": {
      "http://localhost:8080/nbextensions/google.colab/files.js": {
       "data": "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",
       "headers": [
        [
         "content-type",
         "application/javascript"
        ]
       ],
       "ok": true,
       "status": 200,
       "status_text": "OK"
      }
     }
    },
    "colab_type": "code",
    "id": "NjIA9qygQk4x",
    "outputId": "f1edee93-9aac-4b59-9f6d-46f58b49c376"
   },
   "outputs": [
    {
     "data": {
      "text/html": [
       "\n",
       "     <input type=\"file\" id=\"files-abda8250-6ec7-4abb-b148-14ae2b42c1cf\" name=\"files[]\" multiple disabled />\n",
       "     <output id=\"result-abda8250-6ec7-4abb-b148-14ae2b42c1cf\">\n",
       "      Upload widget is only available when the cell has been executed in the\n",
       "      current browser session. Please rerun this cell to enable.\n",
       "      </output>\n",
       "      <script src=\"/nbextensions/google.colab/files.js\"></script> "
      ],
      "text/plain": [
       "<IPython.core.display.HTML object>"
      ]
     },
     "metadata": {
      "tags": []
     },
     "output_type": "display_data"
    },
    {
     "name": "stdout",
     "output_type": "stream",
     "text": [
      "Saving train.csv to train.csv\n"
     ]
    }
   ],
   "source": [
    "uploaded = files.upload()"
   ]
  },
  {
   "cell_type": "code",
   "execution_count": 0,
   "metadata": {
    "colab": {},
    "colab_type": "code",
    "id": "CKPsrUUlQl5j"
   },
   "outputs": [],
   "source": [
    "df_train = pd.read_csv(io.StringIO(uploaded['train.csv'].decode('utf-8')))\n",
    "#df_train = pd.read_csv('train.csv')"
   ]
  },
  {
   "cell_type": "markdown",
   "metadata": {
    "colab_type": "text",
    "id": "K9D2H1wJRLrR"
   },
   "source": [
    "### Splitting the dataset"
   ]
  },
  {
   "cell_type": "code",
   "execution_count": 6,
   "metadata": {
    "colab": {
     "base_uri": "https://localhost:8080/",
     "height": 52
    },
    "colab_type": "code",
    "id": "L1ShW20EQr0M",
    "outputId": "ddf1b6da-06d8-488e-b47a-3ef1c231124a"
   },
   "outputs": [
    {
     "name": "stdout",
     "output_type": "stream",
     "text": [
      "Shape of X_train: (42000, 784)\n",
      "Shape of y_train: (42000,)\n"
     ]
    }
   ],
   "source": [
    "X_train = df_train.drop(['label'], axis=1)\n",
    "y_train = df_train['label']\n",
    "\n",
    "# Free memory space\n",
    "\n",
    "del df_train\n",
    "\n",
    "print('Shape of X_train:', X_train.shape)\n",
    "print('Shape of y_train:', y_train.shape)"
   ]
  },
  {
   "cell_type": "markdown",
   "metadata": {
    "colab_type": "text",
    "id": "6j6yJtj5SIuK"
   },
   "source": [
    "### Normalizing the values of training and test"
   ]
  },
  {
   "cell_type": "code",
   "execution_count": 0,
   "metadata": {
    "colab": {},
    "colab_type": "code",
    "id": "SfkmFge5SJHt"
   },
   "outputs": [],
   "source": [
    "X_train = X_train / 255"
   ]
  },
  {
   "cell_type": "markdown",
   "metadata": {
    "colab_type": "text",
    "id": "mODMR1dLSR9t"
   },
   "source": [
    "### Reshape the images in 3 dimensions to use with Keras"
   ]
  },
  {
   "cell_type": "code",
   "execution_count": 8,
   "metadata": {
    "colab": {
     "base_uri": "https://localhost:8080/",
     "height": 34
    },
    "colab_type": "code",
    "id": "d9fq_86pSSiy",
    "outputId": "412f9fa9-ad20-4a91-fbe4-33cddf035cae"
   },
   "outputs": [
    {
     "name": "stdout",
     "output_type": "stream",
     "text": [
      "Shape of X_train: (42000, 28, 28, 1)\n"
     ]
    }
   ],
   "source": [
    "X_train = X_train.values.reshape(-1,28,28,1) # (height = 28px, width = 28px , canal = 1)\n",
    "\n",
    "print('Shape of X_train:', X_train.shape)"
   ]
  },
  {
   "cell_type": "markdown",
   "metadata": {
    "colab_type": "text",
    "id": "7X5vx9qOSdEF"
   },
   "source": [
    "### Converting y values (labels) to categorical values"
   ]
  },
  {
   "cell_type": "code",
   "execution_count": 9,
   "metadata": {
    "colab": {
     "base_uri": "https://localhost:8080/",
     "height": 139
    },
    "colab_type": "code",
    "id": "KW4URT0SSddz",
    "outputId": "9c1d1fe3-9ff0-41da-de55-53e8e373ab8e"
   },
   "outputs": [
    {
     "data": {
      "text/plain": [
       "array([[0., 1., 0., ..., 0., 0., 0.],\n",
       "       [1., 0., 0., ..., 0., 0., 0.],\n",
       "       [0., 1., 0., ..., 0., 0., 0.],\n",
       "       ...,\n",
       "       [0., 0., 0., ..., 1., 0., 0.],\n",
       "       [0., 0., 0., ..., 0., 0., 0.],\n",
       "       [0., 0., 0., ..., 0., 0., 1.]], dtype=float32)"
      ]
     },
     "execution_count": 9,
     "metadata": {
      "tags": []
     },
     "output_type": "execute_result"
    }
   ],
   "source": [
    "# One Hot Categories\n",
    "\n",
    "y_train = to_categorical(y_train, num_classes = 10)\n",
    "y_train"
   ]
  },
  {
   "cell_type": "markdown",
   "metadata": {
    "colab_type": "text",
    "id": "-4-yC1WnS0WB"
   },
   "source": [
    "### Function to create neural networks to be evalueted"
   ]
  },
  {
   "cell_type": "code",
   "execution_count": 0,
   "metadata": {
    "colab": {},
    "colab_type": "code",
    "id": "kPTN6fqsTAYb"
   },
   "outputs": [],
   "source": [
    "def baseline_model(layers = 1, \n",
    "                   filter_l1 = 32, \n",
    "                   filter_l2 = 64, \n",
    "                   filter_l3 = 128,\n",
    "                   activation_l1 = 'relu',\n",
    "                   activation_l2 = 'relu',\n",
    "                   activation_l3 = 'relu',\n",
    "                   dense = 256, \n",
    "                   dropout_l1 = 0.25, \n",
    "                   dropout_l2 = 0.25, \n",
    "                   dropout_l3 = 0.4, \n",
    "                   batchNormalization = True,\n",
    "                   optimizer = RMSprop(epsilon=1e-08)):\n",
    "                          \n",
    "    # Create baseline\n",
    "    \n",
    "    baseline = Sequential()\n",
    "\n",
    "    # First group\n",
    "    #---------------------------------------------------------------------------------------------------\n",
    "        \n",
    "    baseline.add(Conv2D(filters = filter_l1, kernel_size = (5,5),padding = 'Same', activation = activation_l1, \n",
    "                     input_shape = (28, 28, 1)))\n",
    "    \n",
    "    if batchNormalization:\n",
    "      baseline.add(BatchNormalization())\n",
    "      \n",
    "    if (layers >= 2):\n",
    "      for i in range(layers-1):\n",
    "        baseline.add(Conv2D(filters = filter_l1, kernel_size = (5,5),padding = 'Same', activation = activation_l1))\n",
    "        if batchNormalization:\n",
    "          baseline.add(BatchNormalization())\n",
    "      \n",
    "    baseline.add(MaxPool2D(pool_size=(2,2)))\n",
    "    baseline.add(Dropout(dropout_l1))\n",
    "    \n",
    "    # Second group\n",
    "    #---------------------------------------------------------------------------------------------------\n",
    "    \n",
    "    baseline.add(Conv2D(filters = filter_l2, kernel_size = (3,3), padding = 'Same', activation = activation_l2))\n",
    "    if batchNormalization:\n",
    "      baseline.add(BatchNormalization())\n",
    "      \n",
    "    if (layers >= 2):\n",
    "      for i in range(layers-1):\n",
    "        baseline.add(Conv2D(filters = filter_l2, kernel_size = (5,5),padding = 'Same', activation = activation_l2))\n",
    "        if batchNormalization:\n",
    "          baseline.add(BatchNormalization())\n",
    "    \n",
    "    baseline.add(MaxPool2D(pool_size=(2,2), strides=(2,2)))\n",
    "    baseline.add(Dropout(dropout_l2))\n",
    "    \n",
    "    # Third group\n",
    "    #---------------------------------------------------------------------------------------------------\n",
    "    \n",
    "    baseline.add(Conv2D(filters = filter_l3, kernel_size = (3,3), padding = 'Same', activation = activation_l3))\n",
    "    \n",
    "    if batchNormalization:\n",
    "      baseline.add(BatchNormalization())\n",
    "      \n",
    "    baseline.add(Flatten())\n",
    "    baseline.add(Dense(dense, activation = \"relu\"))\n",
    "    baseline.add(Dropout(dropout_l3))\n",
    "    \n",
    "    baseline.add(Dense(10, activation = \"softmax\"))\n",
    "    \n",
    "    # Compile the baseline including the optimizer and evaluating the performance of the baseline by accuracy\n",
    "    \n",
    "    baseline.compile(optimizer = optimizer , loss = \"categorical_crossentropy\", metrics=[\"accuracy\"])\n",
    "    \n",
    "    return baseline"
   ]
  },
  {
   "cell_type": "markdown",
   "metadata": {
    "colab_type": "text",
    "id": "R-AMJf51Xwg5"
   },
   "source": [
    "### Learning Rate"
   ]
  },
  {
   "cell_type": "code",
   "execution_count": 0,
   "metadata": {
    "colab": {},
    "colab_type": "code",
    "id": "VNSZ-PFTXxB9"
   },
   "outputs": [],
   "source": [
    "# If after the third epoch we didn't have an improvement of accuracy, the learning rate will be \n",
    "# reduced by 50% (factor).\n",
    "\n",
    "lr_reduction = ReduceLROnPlateau(monitor='val_acc',\n",
    "                                 patience=3, \n",
    "                                 verbose=0, \n",
    "                                 factor=0.5, \n",
    "                                 min_lr=0.00001)"
   ]
  },
  {
   "cell_type": "markdown",
   "metadata": {
    "colab_type": "text",
    "id": "7Yqt4USlX22C"
   },
   "source": [
    "### Data Augmentation"
   ]
  },
  {
   "cell_type": "code",
   "execution_count": 0,
   "metadata": {
    "colab": {},
    "colab_type": "code",
    "id": "gNtbm75oX3QK"
   },
   "outputs": [],
   "source": [
    "# The idea is to alter the training data with small transformations to reproduce the variations \n",
    "# occuring when someone is writing a digit. It's a way to minimize the overfitting of the model.\n",
    "\n",
    "def data_augmentation(range = 10):\n",
    "  \n",
    "    generator = ImageDataGenerator(featurewise_center = False,\n",
    "                                 samplewise_center = False, \n",
    "                                 featurewise_std_normalization = False,\n",
    "                                 samplewise_std_normalization = False,\n",
    "                                 zca_whitening = False,\n",
    "                                 rotation_range = range, # Rotate image in 'rotation_range' degrees\n",
    "                                 zoom_range = range/100, # Zoom image ('zoom_range'% zoom) \n",
    "                                 width_shift_range = range/100, # Shift image horizontally ('width_shift_range'% of width)\n",
    "                                 height_shift_range = range/100, # Shift image vertically ('height_shift_range'% of height)\n",
    "                                 horizontal_flip = False,\n",
    "                                 vertical_flip = False)\n",
    "\n",
    "    generator.fit(X_train)\n",
    "    return generator"
   ]
  },
  {
   "cell_type": "markdown",
   "metadata": {
    "colab_type": "text",
    "id": "D_jbc38cZ4AR"
   },
   "source": [
    "### Testing the models"
   ]
  },
  {
   "cell_type": "code",
   "execution_count": 0,
   "metadata": {
    "colab": {},
    "colab_type": "code",
    "id": "Uuq9gnZEPqMc"
   },
   "outputs": [],
   "source": [
    "from sklearn.model_selection import GridSearchCV\n",
    "from keras.wrappers.scikit_learn import KerasClassifier"
   ]
  },
  {
   "cell_type": "code",
   "execution_count": 0,
   "metadata": {
    "colab": {},
    "colab_type": "code",
    "id": "KFziKX3UZ5ma"
   },
   "outputs": [],
   "source": [
    "epochs = 1\n",
    "batch_size = 90"
   ]
  },
  {
   "cell_type": "code",
   "execution_count": 0,
   "metadata": {
    "colab": {},
    "colab_type": "code",
    "id": "SiXoRqYrf0sO"
   },
   "outputs": [],
   "source": [
    "X_train_aux, X_test_aux, y_train_aux, y_test_aux = train_test_split(X_train, y_train, test_size = 0.1)"
   ]
  },
  {
   "cell_type": "code",
   "execution_count": 14,
   "metadata": {
    "colab": {
     "base_uri": "https://localhost:8080/",
     "height": 347
    },
    "colab_type": "code",
    "id": "g_9nrr63aIed",
    "outputId": "58a8eca6-69bc-47f7-f12c-66cda1ce4346"
   },
   "outputs": [
    {
     "data": {
      "text/plain": [
       "{'activation_l1': ['relu', 'sigmoid', 'tanh'],\n",
       " 'activation_l2': ['relu', 'sigmoid', 'tanh'],\n",
       " 'activation_l3': ['relu', 'sigmoid', 'tanh'],\n",
       " 'batchNormalization': [True, False],\n",
       " 'dense': [128, 256],\n",
       " 'dropout_l1': [0.25, 0.4, 0.5],\n",
       " 'dropout_l2': [0.25, 0.4, 0.5],\n",
       " 'dropout_l3': [0.25, 0.4, 0.5],\n",
       " 'filter_l1': [16, 32],\n",
       " 'filter_l2': [32, 64],\n",
       " 'filter_l3': [64, 128],\n",
       " 'layers': [1, 2, 3],\n",
       " 'optimizer': ['SGD',\n",
       "  'Adagrad',\n",
       "  'Adadelta',\n",
       "  'Adam',\n",
       "  'Adamax',\n",
       "  'Nadam',\n",
       "  <keras.optimizers.RMSprop at 0x7faa32900160>]}"
      ]
     },
     "execution_count": 14,
     "metadata": {
      "tags": []
     },
     "output_type": "execute_result"
    }
   ],
   "source": [
    "################################################################################\n",
    "# Test\n",
    "################################################################################\n",
    "             \n",
    "model = KerasClassifier(build_fn=baseline_model, epochs=epochs, batch_size=batch_size, verbose=1)\n",
    "\n",
    "# Define the grid search parameters\n",
    "\n",
    "optimizer = ['SGD', 'Adagrad', 'Adadelta', 'Adam', 'Adamax', RMSprop(epsilon=1e-08)]\n",
    "layers = [1, 2, 3]\n",
    "filter_l1 = [16, 32] \n",
    "filter_l2 = [32, 64]\n",
    "filter_l3 = [64, 128]\n",
    "activation_l1 = ['relu', 'sigmoid']\n",
    "activation_l2 = ['relu', 'sigmoid']\n",
    "activation_l3 = ['relu', 'sigmoid']\n",
    "dense = [128, 256] \n",
    "dropout_l1 = [0.25, 0.4, 0.5]\n",
    "dropout_l2 = [0.25, 0.4, 0.5]\n",
    "dropout_l3 = [0.25, 0.4, 0.5]\n",
    "batchNormalization = [True, False]\n",
    "\n",
    "param_grid = dict(optimizer=optimizer,\n",
    "                 layers=layers,\n",
    "                 filter_l1=filter_l1,\n",
    "                 filter_l2=filter_l2,\n",
    "                 filter_l3=filter_l3,\n",
    "                 activation_l1=activation_l1,\n",
    "                 activation_l2=activation_l2,\n",
    "                 activation_l3=activation_l3,\n",
    "                 dense=dense,\n",
    "                 dropout_l1=dropout_l1,\n",
    "                 dropout_l2=dropout_l2,\n",
    "                 dropout_l3=dropout_l3,\n",
    "                 batchNormalization=batchNormalization)\n",
    "\n",
    "param_grid"
   ]
  },
  {
   "cell_type": "code",
   "execution_count": 0,
   "metadata": {
    "colab": {
     "base_uri": "https://localhost:8080/",
     "height": 5383
    },
    "colab_type": "code",
    "id": "n0iJm84OUlJD",
    "outputId": "e32fbcbc-bbdc-4616-c8d0-f0131570418b"
   },
   "outputs": [
    {
     "name": "stdout",
     "output_type": "stream",
     "text": [
      "Epoch 1/1\n",
      "28000/28000 [==============================] - 7s 254us/step - loss: 0.5359 - acc: 0.8263\n",
      "14000/14000 [==============================] - 1s 77us/step\n",
      "28000/28000 [==============================] - 2s 64us/step\n",
      "Epoch 1/1\n",
      "28000/28000 [==============================] - 5s 180us/step - loss: 0.5329 - acc: 0.8285\n",
      "14000/14000 [==============================] - 1s 75us/step\n",
      "28000/28000 [==============================] - 2s 71us/step\n",
      "Epoch 1/1\n",
      "28000/28000 [==============================] - 5s 184us/step - loss: 0.5401 - acc: 0.8293\n",
      "14000/14000 [==============================] - 1s 78us/step\n",
      "28000/28000 [==============================] - 2s 64us/step\n",
      "Epoch 1/1\n",
      "28000/28000 [==============================] - 6s 202us/step - loss: 0.3385 - acc: 0.9129\n",
      "14000/14000 [==============================] - 1s 81us/step\n",
      "28000/28000 [==============================] - 2s 64us/step\n",
      "Epoch 1/1\n",
      "28000/28000 [==============================] - 6s 206us/step - loss: 0.3627 - acc: 0.9161\n",
      "14000/14000 [==============================] - 1s 91us/step\n",
      "28000/28000 [==============================] - 2s 65us/step\n",
      "Epoch 1/1\n",
      "28000/28000 [==============================] - 6s 218us/step - loss: 0.3316 - acc: 0.9174\n",
      "14000/14000 [==============================] - 1s 100us/step\n",
      "28000/28000 [==============================] - 2s 65us/step\n",
      "Epoch 1/1\n",
      "28000/28000 [==============================] - 7s 261us/step - loss: 0.2856 - acc: 0.9115\n",
      "14000/14000 [==============================] - 1s 101us/step\n",
      "28000/28000 [==============================] - 2s 65us/step\n",
      "Epoch 1/1\n",
      "28000/28000 [==============================] - 7s 258us/step - loss: 0.2752 - acc: 0.9136\n",
      "14000/14000 [==============================] - 1s 104us/step\n",
      "28000/28000 [==============================] - 2s 65us/step\n",
      "Epoch 1/1\n",
      "28000/28000 [==============================] - 8s 269us/step - loss: 0.2870 - acc: 0.9096\n",
      "14000/14000 [==============================] - 2s 108us/step\n",
      "28000/28000 [==============================] - 2s 66us/step\n",
      "Epoch 1/1\n",
      "28000/28000 [==============================] - 8s 271us/step - loss: 0.3156 - acc: 0.9011\n",
      "14000/14000 [==============================] - 2s 122us/step\n",
      "28000/28000 [==============================] - 2s 66us/step\n",
      "Epoch 1/1\n",
      "28000/28000 [==============================] - 8s 284us/step - loss: 0.2917 - acc: 0.9077\n",
      "14000/14000 [==============================] - 2s 134us/step\n",
      "28000/28000 [==============================] - 2s 66us/step\n",
      "Epoch 1/1\n",
      "28000/28000 [==============================] - 8s 287us/step - loss: 0.2791 - acc: 0.9102\n",
      "14000/14000 [==============================] - 2s 138us/step\n",
      "28000/28000 [==============================] - 2s 67us/step\n",
      "Epoch 1/1\n",
      "28000/28000 [==============================] - 8s 279us/step - loss: 0.2900 - acc: 0.9080\n",
      "14000/14000 [==============================] - 2s 137us/step\n",
      "28000/28000 [==============================] - 2s 67us/step\n",
      "Epoch 1/1\n",
      "28000/28000 [==============================] - 8s 284us/step - loss: 0.2946 - acc: 0.9056\n",
      "14000/14000 [==============================] - 2s 146us/step\n",
      "28000/28000 [==============================] - 2s 68us/step\n",
      "Epoch 1/1\n",
      "28000/28000 [==============================] - 8s 288us/step - loss: 0.3057 - acc: 0.9007\n",
      "14000/14000 [==============================] - 2s 154us/step\n",
      "28000/28000 [==============================] - 2s 70us/step\n",
      "Epoch 1/1\n",
      "28000/28000 [==============================] - 9s 332us/step - loss: 0.2594 - acc: 0.9205\n",
      "14000/14000 [==============================] - 2s 160us/step\n",
      "28000/28000 [==============================] - 2s 76us/step\n",
      "Epoch 1/1\n",
      "28000/28000 [==============================] - 9s 336us/step - loss: 0.2663 - acc: 0.9202\n",
      "14000/14000 [==============================] - 2s 166us/step\n",
      "28000/28000 [==============================] - 2s 68us/step\n",
      "Epoch 1/1\n",
      "28000/28000 [==============================] - 10s 349us/step - loss: 0.2710 - acc: 0.9148\n",
      "14000/14000 [==============================] - 2s 178us/step\n",
      "28000/28000 [==============================] - 2s 68us/step\n",
      "Epoch 1/1\n",
      "28000/28000 [==============================] - 9s 318us/step - loss: 0.2974 - acc: 0.9127\n",
      "14000/14000 [==============================] - 3s 185us/step\n",
      "28000/28000 [==============================] - 2s 69us/step\n",
      "Epoch 1/1\n",
      "28000/28000 [==============================] - 9s 329us/step - loss: 0.2775 - acc: 0.9186\n",
      "14000/14000 [==============================] - 3s 216us/step\n",
      "28000/28000 [==============================] - 2s 69us/step\n",
      "Epoch 1/1\n",
      "28000/28000 [==============================] - 9s 335us/step - loss: 0.2757 - acc: 0.9177\n",
      "14000/14000 [==============================] - 3s 200us/step\n",
      "28000/28000 [==============================] - 2s 69us/step\n",
      "Epoch 1/1\n",
      "28000/28000 [==============================] - 11s 407us/step - loss: 0.4729 - acc: 0.8485\n",
      "14000/14000 [==============================] - 3s 236us/step\n",
      "28000/28000 [==============================] - 3s 93us/step\n",
      "Epoch 1/1\n",
      "28000/28000 [==============================] - 12s 412us/step - loss: 0.4648 - acc: 0.8524\n",
      "14000/14000 [==============================] - 4s 254us/step\n",
      "28000/28000 [==============================] - 3s 90us/step\n",
      "Epoch 1/1\n",
      "28000/28000 [==============================] - 12s 419us/step - loss: 0.4758 - acc: 0.8491\n",
      "14000/14000 [==============================] - 3s 246us/step\n",
      "28000/28000 [==============================] - 3s 90us/step\n",
      "Epoch 1/1\n",
      "28000/28000 [==============================] - 13s 447us/step - loss: 0.3311 - acc: 0.9191\n",
      "14000/14000 [==============================] - 4s 258us/step\n",
      "28000/28000 [==============================] - 3s 93us/step\n",
      "Epoch 1/1\n",
      "28000/28000 [==============================] - 13s 465us/step - loss: 0.3631 - acc: 0.9178\n",
      "14000/14000 [==============================] - 4s 270us/step\n",
      "28000/28000 [==============================] - 3s 92us/step\n",
      "Epoch 1/1\n",
      "28000/28000 [==============================] - 13s 474us/step - loss: 0.3332 - acc: 0.9201\n",
      "14000/14000 [==============================] - 4s 280us/step\n",
      "28000/28000 [==============================] - 3s 92us/step\n",
      "Epoch 1/1\n",
      "28000/28000 [==============================] - 16s 556us/step - loss: 0.2375 - acc: 0.9256\n",
      "14000/14000 [==============================] - 4s 297us/step\n",
      "28000/28000 [==============================] - 3s 99us/step\n",
      "Epoch 1/1\n",
      "28000/28000 [==============================] - 16s 573us/step - loss: 0.2443 - acc: 0.9245\n",
      "14000/14000 [==============================] - 4s 307us/step\n",
      "28000/28000 [==============================] - 3s 98us/step\n",
      "Epoch 1/1\n",
      "28000/28000 [==============================] - 16s 586us/step - loss: 0.2572 - acc: 0.9230\n",
      "14000/14000 [==============================] - 4s 321us/step\n",
      "28000/28000 [==============================] - 3s 100us/step\n",
      "Epoch 1/1\n",
      "28000/28000 [==============================] - 16s 570us/step - loss: 0.2492 - acc: 0.9212\n",
      "14000/14000 [==============================] - 5s 339us/step\n",
      "28000/28000 [==============================] - 3s 106us/step\n",
      "Epoch 1/1\n",
      "28000/28000 [==============================] - 16s 582us/step - loss: 0.2479 - acc: 0.9229\n",
      "14000/14000 [==============================] - 5s 343us/step\n",
      "28000/28000 [==============================] - 3s 96us/step\n",
      "Epoch 1/1\n",
      "28000/28000 [==============================] - 17s 590us/step - loss: 0.2552 - acc: 0.9191\n",
      "14000/14000 [==============================] - 5s 368us/step\n",
      "28000/28000 [==============================] - 3s 107us/step\n",
      "Epoch 1/1\n",
      "28000/28000 [==============================] - 17s 603us/step - loss: 0.2441 - acc: 0.9232\n",
      "14000/14000 [==============================] - 5s 370us/step\n",
      "28000/28000 [==============================] - 3s 98us/step\n",
      "Epoch 1/1\n",
      "28000/28000 [==============================] - 17s 600us/step - loss: 0.2461 - acc: 0.9221\n",
      "14000/14000 [==============================] - 6s 394us/step\n",
      "28000/28000 [==============================] - 3s 107us/step\n",
      "Epoch 1/1\n",
      "28000/28000 [==============================] - 18s 642us/step - loss: 0.2384 - acc: 0.9260\n",
      "14000/14000 [==============================] - 6s 400us/step\n",
      "28000/28000 [==============================] - 3s 101us/step\n",
      "Epoch 1/1\n",
      "28000/28000 [==============================] - 19s 693us/step - loss: 0.2534 - acc: 0.9270\n",
      "14000/14000 [==============================] - 6s 415us/step\n",
      "28000/28000 [==============================] - 3s 103us/step\n",
      "Epoch 1/1\n",
      "28000/28000 [==============================] - 20s 703us/step - loss: 0.2344 - acc: 0.9299\n",
      "14000/14000 [==============================] - 6s 432us/step\n",
      "28000/28000 [==============================] - 3s 108us/step\n",
      "Epoch 1/1\n",
      "28000/28000 [==============================] - 20s 719us/step - loss: 0.2343 - acc: 0.9277\n",
      "14000/14000 [==============================] - 6s 437us/step\n",
      "28000/28000 [==============================] - 3s 104us/step\n",
      "Epoch 1/1\n",
      "28000/28000 [==============================] - 19s 681us/step - loss: 0.2560 - acc: 0.9237\n",
      "14000/14000 [==============================] - 6s 445us/step\n",
      "28000/28000 [==============================] - 3s 100us/step\n",
      "Epoch 1/1\n",
      "28000/28000 [==============================] - 19s 675us/step - loss: 0.2656 - acc: 0.9211\n",
      "14000/14000 [==============================] - 6s 461us/step\n",
      "28000/28000 [==============================] - 3s 109us/step\n",
      "Epoch 1/1\n",
      "28000/28000 [==============================] - 20s 708us/step - loss: 0.2745 - acc: 0.9183\n",
      "14000/14000 [==============================] - 7s 471us/step\n",
      "28000/28000 [==============================] - 3s 102us/step\n",
      "Epoch 1/1\n",
      "28000/28000 [==============================] - 21s 758us/step - loss: 0.4251 - acc: 0.8646\n",
      "14000/14000 [==============================] - 7s 523us/step\n",
      "28000/28000 [==============================] - 4s 131us/step\n",
      "Epoch 1/1\n",
      "28000/28000 [==============================] - 22s 780us/step - loss: 0.4369 - acc: 0.8594\n",
      "14000/14000 [==============================] - 6s 444us/step\n",
      "28000/28000 [==============================] - 3s 116us/step\n",
      "Epoch 1/1\n",
      "28000/28000 [==============================] - 20s 705us/step - loss: 0.4409 - acc: 0.8585\n",
      "14000/14000 [==============================] - 6s 454us/step\n",
      "28000/28000 [==============================] - 3s 116us/step\n",
      "Epoch 1/1\n",
      "28000/28000 [==============================] - 20s 723us/step - loss: 0.4864 - acc: 0.8986\n",
      "14000/14000 [==============================] - 7s 483us/step\n",
      "28000/28000 [==============================] - 4s 132us/step\n",
      "Epoch 1/1\n",
      "28000/28000 [==============================] - 21s 745us/step - loss: 0.5988 - acc: 0.8706\n",
      "14000/14000 [==============================] - 7s 476us/step\n",
      "28000/28000 [==============================] - 3s 119us/step\n",
      "Epoch 1/1\n",
      "28000/28000 [==============================] - 21s 755us/step - loss: 0.4989 - acc: 0.8780\n",
      "14000/14000 [==============================] - 7s 497us/step\n",
      "28000/28000 [==============================] - 3s 117us/step\n",
      "Epoch 1/1\n",
      "28000/28000 [==============================] - 24s 841us/step - loss: 0.2534 - acc: 0.9218\n",
      "14000/14000 [==============================] - 7s 513us/step\n",
      "28000/28000 [==============================] - 4s 128us/step\n",
      "Epoch 1/1\n",
      "28000/28000 [==============================] - 24s 864us/step - loss: 0.2487 - acc: 0.9238\n",
      "14000/14000 [==============================] - 8s 557us/step\n",
      "28000/28000 [==============================] - 4s 150us/step\n",
      "Epoch 1/1\n",
      "28000/28000 [==============================] - 25s 882us/step - loss: 0.2379 - acc: 0.9269\n",
      "14000/14000 [==============================] - 8s 542us/step\n",
      "28000/28000 [==============================] - 4s 128us/step\n",
      "Epoch 1/1\n",
      "28000/28000 [==============================] - 25s 887us/step - loss: 0.2522 - acc: 0.9198\n",
      "14000/14000 [==============================] - 8s 558us/step\n",
      "28000/28000 [==============================] - 4s 126us/step\n",
      "Epoch 1/1\n",
      "28000/28000 [==============================] - 25s 901us/step - loss: 0.2462 - acc: 0.9233\n",
      "14000/14000 [==============================] - 8s 594us/step\n",
      "28000/28000 [==============================] - 4s 126us/step\n",
      "Epoch 1/1\n",
      "28000/28000 [==============================] - 26s 923us/step - loss: 0.2611 - acc: 0.9181\n",
      "14000/14000 [==============================] - 8s 600us/step\n",
      "28000/28000 [==============================] - 4s 128us/step\n",
      "Epoch 1/1\n",
      "28000/28000 [==============================] - 26s 921us/step - loss: 0.2504 - acc: 0.9216\n",
      "14000/14000 [==============================] - 9s 616us/step\n",
      "28000/28000 [==============================] - 4s 128us/step\n",
      "Epoch 1/1\n",
      "28000/28000 [==============================] - 26s 926us/step - loss: 0.2616 - acc: 0.9157\n",
      "14000/14000 [==============================] - 9s 648us/step\n",
      "28000/28000 [==============================] - 4s 151us/step\n",
      "Epoch 1/1\n",
      "28000/28000 [==============================] - 27s 963us/step - loss: 0.2562 - acc: 0.9177\n",
      "14000/14000 [==============================] - 9s 658us/step\n",
      "28000/28000 [==============================] - 4s 139us/step\n",
      "Epoch 1/1\n",
      "28000/28000 [==============================] - 30s 1ms/step - loss: 0.2450 - acc: 0.9267\n",
      "14000/14000 [==============================] - 9s 667us/step\n",
      "28000/28000 [==============================] - 4s 133us/step\n",
      "Epoch 1/1\n",
      "28000/28000 [==============================] - 30s 1ms/step - loss: 0.2302 - acc: 0.9324\n",
      "14000/14000 [==============================] - 10s 698us/step\n",
      "28000/28000 [==============================] - 4s 138us/step\n",
      "Epoch 1/1\n",
      "28000/28000 [==============================] - 31s 1ms/step - loss: 0.2225 - acc: 0.9349\n",
      "14000/14000 [==============================] - 10s 710us/step\n",
      "28000/28000 [==============================] - 4s 150us/step\n",
      "Epoch 1/1\n",
      "28000/28000 [==============================] - 29s 1ms/step - loss: 0.2691 - acc: 0.9230\n",
      "14000/14000 [==============================] - 10s 717us/step\n",
      "28000/28000 [==============================] - 4s 130us/step\n",
      "Epoch 1/1\n",
      "28000/28000 [==============================] - 30s 1ms/step - loss: 0.2793 - acc: 0.9172\n",
      "14000/14000 [==============================] - 10s 737us/step\n",
      "28000/28000 [==============================] - 4s 131us/step\n",
      "Epoch 1/1\n",
      "28000/28000 [==============================] - 30s 1ms/step - loss: 0.2576 - acc: 0.9228\n",
      "14000/14000 [==============================] - 11s 752us/step\n",
      "28000/28000 [==============================] - 4s 134us/step\n",
      "Epoch 1/1\n",
      "28000/28000 [==============================] - 25s 906us/step - loss: 0.4409 - acc: 0.8589\n",
      "14000/14000 [==============================] - 10s 727us/step\n",
      "28000/28000 [==============================] - 3s 94us/step\n",
      "Epoch 1/1\n",
      "28000/28000 [==============================] - 26s 916us/step - loss: 0.4535 - acc: 0.8542\n",
      "14000/14000 [==============================] - 10s 728us/step\n",
      "28000/28000 [==============================] - 3s 91us/step\n",
      "Epoch 1/1\n",
      "28000/28000 [==============================] - 26s 922us/step - loss: 0.4420 - acc: 0.8568\n",
      "14000/14000 [==============================] - 10s 738us/step\n",
      "28000/28000 [==============================] - 3s 92us/step\n",
      "Epoch 1/1\n",
      "28000/28000 [==============================] - 27s 950us/step - loss: 1.0261 - acc: 0.8622\n",
      "14000/14000 [==============================] - 10s 740us/step\n",
      "28000/28000 [==============================] - 3s 92us/step\n",
      "Epoch 1/1\n",
      "28000/28000 [==============================] - 27s 954us/step - loss: 0.3886 - acc: 0.9153\n",
      "14000/14000 [==============================] - 11s 752us/step\n",
      "28000/28000 [==============================] - 3s 92us/step\n",
      "Epoch 1/1\n",
      "28000/28000 [==============================] - 27s 965us/step - loss: 0.4462 - acc: 0.9147\n",
      "14000/14000 [==============================] - 11s 760us/step\n",
      "28000/28000 [==============================] - 3s 92us/step\n",
      "Epoch 1/1\n",
      "28000/28000 [==============================] - 29s 1ms/step - loss: 0.3048 - acc: 0.9078\n",
      "14000/14000 [==============================] - 11s 770us/step\n",
      "28000/28000 [==============================] - 3s 92us/step\n",
      "Epoch 1/1\n",
      "28000/28000 [==============================] - 29s 1ms/step - loss: 0.3121 - acc: 0.9065\n",
      "14000/14000 [==============================] - 11s 784us/step\n",
      "28000/28000 [==============================] - 3s 93us/step\n",
      "Epoch 1/1\n",
      "28000/28000 [==============================] - 29s 1ms/step - loss: 0.2785 - acc: 0.9157\n",
      "14000/14000 [==============================] - 11s 799us/step\n",
      "28000/28000 [==============================] - 3s 92us/step\n",
      "Epoch 1/1\n",
      "28000/28000 [==============================] - 29s 1ms/step - loss: 0.2919 - acc: 0.9103\n",
      "14000/14000 [==============================] - 11s 815us/step\n",
      "28000/28000 [==============================] - 3s 93us/step\n",
      "Epoch 1/1\n",
      "28000/28000 [==============================] - 30s 1ms/step - loss: 0.2842 - acc: 0.9119\n",
      "14000/14000 [==============================] - 12s 827us/step\n",
      "28000/28000 [==============================] - 3s 94us/step\n",
      "Epoch 1/1\n",
      "28000/28000 [==============================] - 30s 1ms/step - loss: 0.2690 - acc: 0.9191\n",
      "14000/14000 [==============================] - 12s 839us/step\n",
      "28000/28000 [==============================] - 3s 93us/step\n",
      "Epoch 1/1\n",
      "28000/28000 [==============================] - 30s 1ms/step - loss: 0.2823 - acc: 0.9116\n",
      "14000/14000 [==============================] - 12s 863us/step\n",
      "28000/28000 [==============================] - 3s 95us/step\n",
      "Epoch 1/1\n",
      "28000/28000 [==============================] - 30s 1ms/step - loss: 0.2919 - acc: 0.9066\n",
      "14000/14000 [==============================] - 12s 854us/step\n",
      "28000/28000 [==============================] - 3s 96us/step\n",
      "Epoch 1/1\n"
     ]
    }
   ],
   "source": [
    "grid = GridSearchCV(estimator=model, param_grid=param_grid, n_jobs=1)\n",
    "grid_result = grid.fit(X_train, y_train)"
   ]
  },
  {
   "cell_type": "code",
   "execution_count": 0,
   "metadata": {
    "colab": {},
    "colab_type": "code",
    "id": "77WF3DEcTliy"
   },
   "outputs": [],
   "source": [
    "# Summarize results\n",
    "\n",
    "print('-----------------------------------------------------------------------')\n",
    "print(\"Best: %f using %s\" % (grid_result.best_score_, grid_result.best_params_))\n",
    "print('-----------------------------------------------------------------------')\n",
    "\n",
    "means = grid_result.cv_results_['mean_test_score']\n",
    "stds = grid_result.cv_results_['std_test_score']\n",
    "params = grid_result.cv_results_['params']\n",
    "\n",
    "for mean, stdev, param in zip(means, stds, params):\n",
    "    print(\"%f (%f) with: %r\" % (mean, stdev, param))"
   ]
  },
  {
   "cell_type": "code",
   "execution_count": 0,
   "metadata": {
    "colab": {},
    "colab_type": "code",
    "id": "Yl45hpI4XvjI"
   },
   "outputs": [],
   "source": []
  }
 ],
 "metadata": {
  "accelerator": "GPU",
  "colab": {
   "collapsed_sections": [],
   "name": "TestCNN_v1.ipynb",
   "provenance": [],
   "toc_visible": true,
   "version": "0.3.2"
  },
  "kernelspec": {
   "display_name": "Python 3",
   "language": "python",
   "name": "python3"
  },
  "language_info": {
   "codemirror_mode": {
    "name": "ipython",
    "version": 3
   },
   "file_extension": ".py",
   "mimetype": "text/x-python",
   "name": "python",
   "nbconvert_exporter": "python",
   "pygments_lexer": "ipython3",
   "version": "3.6.4"
  }
 },
 "nbformat": 4,
 "nbformat_minor": 1
}
