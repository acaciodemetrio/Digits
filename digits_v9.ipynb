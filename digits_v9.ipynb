{
  "nbformat": 4,
  "nbformat_minor": 0,
  "metadata": {
    "colab": {
      "name": "digits_v9.ipynb",
      "version": "0.3.2",
      "provenance": [],
      "collapsed_sections": [],
      "toc_visible": true
    },
    "kernelspec": {
      "name": "python3",
      "display_name": "Python 3"
    },
    "accelerator": "GPU"
  },
  "cells": [
    {
      "metadata": {
        "colab_type": "code",
        "id": "qM8J82HXHM62",
        "outputId": "3dfb871c-ff82-4358-9f3f-998366f064e4",
        "colab": {
          "base_uri": "https://localhost:8080/",
          "height": 211
        }
      },
      "cell_type": "code",
      "source": [
        "!pip install imblearn\n",
        "!pip install numpy\n",
        "!pip install sklearn"
      ],
      "execution_count": 2,
      "outputs": [
        {
          "output_type": "stream",
          "text": [
            "Requirement already satisfied: imblearn in /usr/local/lib/python3.6/dist-packages (0.0)\n",
            "Requirement already satisfied: imbalanced-learn in /usr/local/lib/python3.6/dist-packages (from imblearn) (0.4.2)\n",
            "Requirement already satisfied: scipy>=0.13.3 in /usr/local/lib/python3.6/dist-packages (from imbalanced-learn->imblearn) (0.19.1)\n",
            "Requirement already satisfied: numpy>=1.8.2 in /usr/local/lib/python3.6/dist-packages (from imbalanced-learn->imblearn) (1.14.6)\n",
            "Requirement already satisfied: scikit-learn>=0.20 in /usr/local/lib/python3.6/dist-packages (from imbalanced-learn->imblearn) (0.20.0)\n",
            "Requirement already satisfied: numpy in /usr/local/lib/python3.6/dist-packages (1.14.6)\n",
            "Requirement already satisfied: sklearn in /usr/local/lib/python3.6/dist-packages (0.0)\n",
            "Requirement already satisfied: scikit-learn in /usr/local/lib/python3.6/dist-packages (from sklearn) (0.20.0)\n",
            "Requirement already satisfied: scipy>=0.13.3 in /usr/local/lib/python3.6/dist-packages (from scikit-learn->sklearn) (0.19.1)\n",
            "Requirement already satisfied: numpy>=1.8.2 in /usr/local/lib/python3.6/dist-packages (from scikit-learn->sklearn) (1.14.6)\n"
          ],
          "name": "stdout"
        }
      ]
    },
    {
      "metadata": {
        "id": "VGHuCkNVocW5",
        "colab_type": "code",
        "colab": {}
      },
      "cell_type": "code",
      "source": [
        "%matplotlib inline\n",
        "\n",
        "import pandas as pd\n",
        "import numpy as np\n",
        "\n",
        "from collections import Counter\n",
        "from sklearn.model_selection import train_test_split\n",
        "\n",
        "from keras.utils.np_utils import to_categorical\n",
        "from keras.models import Sequential\n",
        "from keras.layers import Dense, Dropout, Flatten, Conv2D, MaxPool2D, BatchNormalization\n",
        "from keras.optimizers import RMSprop\n",
        "from keras.preprocessing.image import ImageDataGenerator\n",
        "from keras.callbacks import ReduceLROnPlateau\n",
        "\n",
        "from keras.models import model_from_json\n",
        "\n",
        "import warnings\n",
        "warnings.filterwarnings(\"ignore\")\n",
        "\n",
        "from imblearn.over_sampling import SMOTE\n",
        "\n",
        "import io\n",
        "from google.colab import files\n",
        "\n",
        "# My seed\n",
        "\n",
        "seed = 42"
      ],
      "execution_count": 0,
      "outputs": []
    },
    {
      "metadata": {
        "colab_type": "code",
        "id": "kChFXF-CJhe3",
        "outputId": "0610123f-4488-4258-9891-0b75fd12fb87",
        "colab": {
          "resources": {
            "http://localhost:8080/nbextensions/google.colab/files.js": {
              "data": "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",
              "ok": true,
              "headers": [
                [
                  "content-type",
                  "application/javascript"
                ]
              ],
              "status": 200,
              "status_text": "OK"
            }
          },
          "base_uri": "https://localhost:8080/",
          "height": 79
        }
      },
      "cell_type": "code",
      "source": [
        "uploaded = files.upload()"
      ],
      "execution_count": 0,
      "outputs": [
        {
          "output_type": "display_data",
          "data": {
            "text/html": [
              "\n",
              "     <input type=\"file\" id=\"files-e2164a9f-63b4-471c-b4b7-fc6f0dd0f1f2\" name=\"files[]\" multiple disabled />\n",
              "     <output id=\"result-e2164a9f-63b4-471c-b4b7-fc6f0dd0f1f2\">\n",
              "      Upload widget is only available when the cell has been executed in the\n",
              "      current browser session. Please rerun this cell to enable.\n",
              "      </output>\n",
              "      <script src=\"/nbextensions/google.colab/files.js\"></script> "
            ],
            "text/plain": [
              "<IPython.core.display.HTML object>"
            ]
          },
          "metadata": {
            "tags": []
          }
        },
        {
          "output_type": "stream",
          "text": [
            "Saving train.csv to train.csv\n"
          ],
          "name": "stdout"
        }
      ]
    },
    {
      "metadata": {
        "colab_type": "text",
        "id": "TQD_ssbnHM7A"
      },
      "cell_type": "markdown",
      "source": [
        "### Loading the training and test dataset"
      ]
    },
    {
      "metadata": {
        "colab_type": "code",
        "id": "RqDoVsC9HM7D",
        "colab": {}
      },
      "cell_type": "code",
      "source": [
        "df_train = pd.read_csv(io.StringIO(uploaded['train.csv'].decode('utf-8')))\n",
        "df_test  = pd.read_csv(io.StringIO(uploaded['test.csv'].decode('utf-8')))"
      ],
      "execution_count": 0,
      "outputs": []
    },
    {
      "metadata": {
        "colab_type": "code",
        "id": "94QDTFGlHM7K",
        "outputId": "d7d92c92-314b-4545-93c6-bb7f1c22c362",
        "colab": {
          "base_uri": "https://localhost:8080/",
          "height": 104
        }
      },
      "cell_type": "code",
      "source": [
        "df_train.info()"
      ],
      "execution_count": 10,
      "outputs": [
        {
          "output_type": "stream",
          "text": [
            "<class 'pandas.core.frame.DataFrame'>\n",
            "RangeIndex: 42000 entries, 0 to 41999\n",
            "Columns: 785 entries, label to pixel783\n",
            "dtypes: int64(785)\n",
            "memory usage: 251.5 MB\n"
          ],
          "name": "stdout"
        }
      ]
    },
    {
      "metadata": {
        "colab_type": "code",
        "id": "IJeAI_2UHM7V",
        "outputId": "67d74435-bef0-490b-a67e-45f2717b6ea2",
        "colab": {
          "base_uri": "https://localhost:8080/",
          "height": 104
        }
      },
      "cell_type": "code",
      "source": [
        "df_test.info()"
      ],
      "execution_count": 11,
      "outputs": [
        {
          "output_type": "stream",
          "text": [
            "<class 'pandas.core.frame.DataFrame'>\n",
            "RangeIndex: 28000 entries, 0 to 27999\n",
            "Columns: 784 entries, pixel0 to pixel783\n",
            "dtypes: int64(784)\n",
            "memory usage: 167.5 MB\n"
          ],
          "name": "stdout"
        }
      ]
    },
    {
      "metadata": {
        "colab_type": "text",
        "id": "xY3FuCv-HM7c"
      },
      "cell_type": "markdown",
      "source": [
        "### Spliting the dataset"
      ]
    },
    {
      "metadata": {
        "colab_type": "code",
        "id": "fTjseu2XHM7f",
        "outputId": "bf52d124-8493-4cc6-d4d3-ba1194b48c38",
        "colab": {
          "base_uri": "https://localhost:8080/",
          "height": 69
        }
      },
      "cell_type": "code",
      "source": [
        "X_train = df_train.drop(['label'], axis=1)\n",
        "y_train = df_train['label']\n",
        "X_test = df_test\n",
        "\n",
        "# Free memory space\n",
        "\n",
        "del df_train\n",
        "del df_test\n",
        "\n",
        "print('Shape of X_train:', X_train.shape)\n",
        "print('Shape of y_train:', y_train.shape)\n",
        "print('Shape of X_test :', X_test.shape)"
      ],
      "execution_count": 12,
      "outputs": [
        {
          "output_type": "stream",
          "text": [
            "Shape of X_train: (42000, 784)\n",
            "Shape of y_train: (42000,)\n",
            "Shape of X_test : (28000, 784)\n"
          ],
          "name": "stdout"
        }
      ]
    },
    {
      "metadata": {
        "colab_type": "text",
        "id": "P67_rsamHM7l"
      },
      "cell_type": "markdown",
      "source": [
        "### Counting the labels before SMOTE"
      ]
    },
    {
      "metadata": {
        "colab_type": "code",
        "id": "kRiEicH7HM7n",
        "outputId": "6f5ddfd0-f538-4db1-da52-554074fc01c1",
        "colab": {
          "base_uri": "https://localhost:8080/",
          "height": 191
        }
      },
      "cell_type": "code",
      "source": [
        "counter = Counter(y_train)\n",
        "counter"
      ],
      "execution_count": 13,
      "outputs": [
        {
          "output_type": "execute_result",
          "data": {
            "text/plain": [
              "Counter({0: 4132,\n",
              "         1: 4684,\n",
              "         2: 4177,\n",
              "         3: 4351,\n",
              "         4: 4072,\n",
              "         5: 3795,\n",
              "         6: 4137,\n",
              "         7: 4401,\n",
              "         8: 4063,\n",
              "         9: 4188})"
            ]
          },
          "metadata": {
            "tags": []
          },
          "execution_count": 13
        }
      ]
    },
    {
      "metadata": {
        "colab_type": "text",
        "id": "i0fZrdF35hr-"
      },
      "cell_type": "markdown",
      "source": [
        "### Using SMOTE to increase the number of images in training dataset"
      ]
    },
    {
      "metadata": {
        "colab_type": "code",
        "id": "ZHeNNvtu5hsL",
        "outputId": "a5b01421-af2f-4ab2-cb57-9216a44592b3",
        "colab": {
          "base_uri": "https://localhost:8080/",
          "height": 52
        }
      },
      "cell_type": "code",
      "source": [
        "cols = X_train.columns\n",
        "\n",
        "# https://imbalanced-learn.readthedocs.io/en/stable/generated/imblearn.over_sampling.SMOTE.html#imblearn.over_sampling.SMOTE\n",
        "\n",
        "sm = SMOTE(sampling_strategy = 'all', k_neighbors = 3, random_state = seed)\n",
        "X_train, y_train = sm.fit_sample(X_train, y_train.ravel())\n",
        "X_train = pd.DataFrame(X_train, columns=cols)\n",
        "\n",
        "print('New shape of X_train:', X_train.shape)\n",
        "print('New shape of y_train:', y_train.shape)"
      ],
      "execution_count": 14,
      "outputs": [
        {
          "output_type": "stream",
          "text": [
            "New shape of X_train: (46840, 784)\n",
            "New shape of y_train: (46840,)\n"
          ],
          "name": "stdout"
        }
      ]
    },
    {
      "metadata": {
        "colab_type": "text",
        "id": "iNJfDwia75Tg"
      },
      "cell_type": "markdown",
      "source": [
        "### Counting the labels after SMOTE"
      ]
    },
    {
      "metadata": {
        "colab_type": "code",
        "id": "cYNQJjBM7-kt",
        "outputId": "839af8bf-b481-46a2-843e-d85926bcffc9",
        "colab": {
          "base_uri": "https://localhost:8080/",
          "height": 191
        }
      },
      "cell_type": "code",
      "source": [
        "counter = Counter(y_train)\n",
        "counter"
      ],
      "execution_count": 15,
      "outputs": [
        {
          "output_type": "execute_result",
          "data": {
            "text/plain": [
              "Counter({0: 4684,\n",
              "         1: 4684,\n",
              "         2: 4684,\n",
              "         3: 4684,\n",
              "         4: 4684,\n",
              "         5: 4684,\n",
              "         6: 4684,\n",
              "         7: 4684,\n",
              "         8: 4684,\n",
              "         9: 4684})"
            ]
          },
          "metadata": {
            "tags": []
          },
          "execution_count": 15
        }
      ]
    },
    {
      "metadata": {
        "colab_type": "text",
        "id": "1yB4I_nrHM7y"
      },
      "cell_type": "markdown",
      "source": [
        "### Normalizing the values of training and test"
      ]
    },
    {
      "metadata": {
        "colab_type": "code",
        "id": "4WMu2MblHM71",
        "colab": {}
      },
      "cell_type": "code",
      "source": [
        "X_train = X_train / 255\n",
        "X_test = X_test / 255"
      ],
      "execution_count": 0,
      "outputs": []
    },
    {
      "metadata": {
        "colab_type": "text",
        "id": "zjZ13rBtHM7-"
      },
      "cell_type": "markdown",
      "source": [
        "### Reshape the images in 3 dimensions to use with Keras"
      ]
    },
    {
      "metadata": {
        "colab_type": "code",
        "id": "fTllDgzdHM7_",
        "outputId": "c03ad817-4b42-40cc-ff7a-14487694afab",
        "colab": {
          "base_uri": "https://localhost:8080/",
          "height": 52
        }
      },
      "cell_type": "code",
      "source": [
        "X_train = X_train.values.reshape(-1,28,28,1) # (height = 28px, width = 28px , canal = 1)\n",
        "X_test = X_test.values.reshape(-1,28,28,1)\n",
        "\n",
        "print('Shape of X_train:', X_train.shape)\n",
        "print('Shape of X_test :', X_test.shape)"
      ],
      "execution_count": 17,
      "outputs": [
        {
          "output_type": "stream",
          "text": [
            "Shape of X_train: (46840, 28, 28, 1)\n",
            "Shape of X_test : (28000, 28, 28, 1)\n"
          ],
          "name": "stdout"
        }
      ]
    },
    {
      "metadata": {
        "colab_type": "text",
        "id": "iiCE1sBnHM8J"
      },
      "cell_type": "markdown",
      "source": [
        "### Converting y values (labels) to categorical values"
      ]
    },
    {
      "metadata": {
        "colab_type": "code",
        "id": "FldleonhHM8J",
        "outputId": "5536e9a0-3dad-43cc-9f1a-4fb64a08f3b9",
        "colab": {
          "base_uri": "https://localhost:8080/",
          "height": 139
        }
      },
      "cell_type": "code",
      "source": [
        "# One Hot Categories\n",
        "\n",
        "y_train = to_categorical(y_train, num_classes = 10)\n",
        "y_train"
      ],
      "execution_count": 18,
      "outputs": [
        {
          "output_type": "execute_result",
          "data": {
            "text/plain": [
              "array([[0., 1., 0., ..., 0., 0., 0.],\n",
              "       [1., 0., 0., ..., 0., 0., 0.],\n",
              "       [0., 1., 0., ..., 0., 0., 0.],\n",
              "       ...,\n",
              "       [0., 0., 0., ..., 0., 0., 1.],\n",
              "       [0., 0., 0., ..., 0., 0., 1.],\n",
              "       [0., 0., 0., ..., 0., 0., 1.]], dtype=float32)"
            ]
          },
          "metadata": {
            "tags": []
          },
          "execution_count": 18
        }
      ]
    },
    {
      "metadata": {
        "colab_type": "text",
        "id": "0zX5q-yeHM8R"
      },
      "cell_type": "markdown",
      "source": [
        "### Define the baseline neural network model"
      ]
    },
    {
      "metadata": {
        "colab_type": "code",
        "id": "YZzy77A6HM8V",
        "colab": {}
      },
      "cell_type": "code",
      "source": [
        "def baseline_model():\n",
        "    \n",
        "    # Create baseline\n",
        "    \n",
        "    baseline = Sequential()\n",
        "\n",
        "    #---------------------------------------------------------------------------------------------------\n",
        "    \n",
        "    # 32 filters for the three firsts conv2D layers\n",
        "    \n",
        "    baseline.add(Conv2D(filters = 32, kernel_size = (5,5),padding = 'Same', activation ='relu', \n",
        "                     input_shape = (28, 28, 1)))\n",
        "    baseline.add(BatchNormalization())\n",
        "    baseline.add(Conv2D(filters = 32, kernel_size = (5,5),padding = 'Same', activation ='relu'))\n",
        "    baseline.add(BatchNormalization())\n",
        "    baseline.add(Conv2D(filters = 32, kernel_size = (5,5),padding = 'Same', activation ='relu'))\n",
        "    baseline.add(BatchNormalization())\n",
        "    \n",
        "    # This layer simply acts as a downsampling filter. \n",
        "    # It looks at the 2 neighboring pixels and picks the maximal value, reducing computational cost, \n",
        "    # and to some extent also reduce overfitting.\n",
        "    \n",
        "    # IMPORTANT: Combining convolutional and pooling layers, CNN are able to combine local features and \n",
        "    # learn more global features of the image.\n",
        "    \n",
        "    baseline.add(MaxPool2D(pool_size=(2,2)))\n",
        "    \n",
        "    # Dropout is a regularization method, where a proportion of nodes (25%) in the layer are randomly ignored \n",
        "    # for each training sample. This dropout forces the network to learn features in a distributed way \n",
        "    # and improves generalization and reduces the overfitting.\n",
        "    \n",
        "    baseline.add(Dropout(0.25))\n",
        "    #---------------------------------------------------------------------------------------------------\n",
        "    \n",
        "    # 64 filters for the three last conv2D layers\n",
        "    \n",
        "    baseline.add(Conv2D(filters = 64, kernel_size = (3,3), padding = 'Same', activation ='relu'))\n",
        "    baseline.add(BatchNormalization())\n",
        "    baseline.add(Conv2D(filters = 64, kernel_size = (3,3), padding = 'Same', activation ='relu'))\n",
        "    baseline.add(BatchNormalization())\n",
        "    baseline.add(Conv2D(filters = 64, kernel_size = (3,3), padding = 'Same', activation ='relu'))\n",
        "    baseline.add(BatchNormalization())\n",
        "    \n",
        "    baseline.add(MaxPool2D(pool_size=(2,2), strides=(2,2)))\n",
        "    baseline.add(Dropout(0.25))\n",
        "    #---------------------------------------------------------------------------------------------------\n",
        "\n",
        "    # The Flatten layer is use to convert the final feature maps into a one single 1D vector. \n",
        "    # IMPORTANT: It combines all the found local features of the previous convolutional layers.\n",
        "    \n",
        "    baseline.add(Conv2D(filters = 128, kernel_size = (3,3), padding = 'Same', activation ='relu'))\n",
        "    baseline.add(BatchNormalization())\n",
        "    baseline.add(Flatten())\n",
        "    baseline.add(Dense(256, activation = \"relu\"))\n",
        "    baseline.add(Dropout(0.4))\n",
        "    \n",
        "    # The net outputs distribution of probability of each class --> In our case, 10 output classes\n",
        "    \n",
        "    baseline.add(Dense(10, activation = \"softmax\"))\n",
        "    \n",
        "    # The optimizer will iteratively improve parameters in order to minimize the loss.\n",
        "    \n",
        "    optimizer = RMSprop(epsilon=1e-08)\n",
        "\n",
        "    # Compile the baseline including the optimizer and evaluating the performance of the baseline by accuracy\n",
        "    \n",
        "    baseline.compile(optimizer = optimizer , loss = \"categorical_crossentropy\", metrics=[\"accuracy\"])\n",
        "    \n",
        "    return baseline"
      ],
      "execution_count": 0,
      "outputs": []
    },
    {
      "metadata": {
        "colab_type": "text",
        "id": "xVF-L9DtHM8b"
      },
      "cell_type": "markdown",
      "source": [
        "### Learning Rate"
      ]
    },
    {
      "metadata": {
        "colab_type": "code",
        "id": "0RozIgRBHM8c",
        "colab": {}
      },
      "cell_type": "code",
      "source": [
        "# If after the third epoch we didn't have an improvement of accuracy, the learning rate will be \n",
        "# reduced by 50% (factor).\n",
        "\n",
        "lr_reduction = ReduceLROnPlateau(monitor='val_acc',\n",
        "                                 patience=3, \n",
        "                                 verbose=0, \n",
        "                                 factor=0.5, \n",
        "                                 min_lr=0.00001)"
      ],
      "execution_count": 0,
      "outputs": []
    },
    {
      "metadata": {
        "colab_type": "text",
        "id": "l_zBIykRHM8h"
      },
      "cell_type": "markdown",
      "source": [
        "### Data augmentation"
      ]
    },
    {
      "metadata": {
        "colab_type": "code",
        "id": "4gJaCXuIHM8u",
        "colab": {}
      },
      "cell_type": "code",
      "source": [
        "# The idea is to alter the training data with small transformations to reproduce the variations \n",
        "# occuring when someone is writing a digit. It's a way to minimize the overfitting of the model.\n",
        "\n",
        "generator = ImageDataGenerator(featurewise_center = False,\n",
        "                               samplewise_center = False, \n",
        "                               featurewise_std_normalization = False,\n",
        "                               samplewise_std_normalization = False,\n",
        "                               zca_whitening = False,\n",
        "                               rotation_range = 10, # Rotate image in 10 degrees\n",
        "                               zoom_range = 0.10, # Zoom image (10% zoom) \n",
        "                               width_shift_range = 0.10, # Shift image horizontally (10% of width)\n",
        "                               height_shift_range = 0.10, # Shift image vertically (10% of height)\n",
        "                               horizontal_flip = False,\n",
        "                               vertical_flip = False)\n",
        "\n",
        "generator.fit(X_train)"
      ],
      "execution_count": 0,
      "outputs": []
    },
    {
      "metadata": {
        "colab_type": "text",
        "id": "mCbwS1l4HM8x"
      },
      "cell_type": "markdown",
      "source": [
        "### Creating 10 nets and training every ones"
      ]
    },
    {
      "metadata": {
        "colab_type": "code",
        "id": "0qE_BCrQHM83",
        "colab": {}
      },
      "cell_type": "code",
      "source": [
        "nets = 10\n",
        "digits = [0] * nets\n",
        "history = [0] * nets\n",
        "\n",
        "epochs = 40\n",
        "batch_size = 90"
      ],
      "execution_count": 0,
      "outputs": []
    },
    {
      "metadata": {
        "colab_type": "code",
        "id": "gv78_SCvHM9C",
        "outputId": "3be14178-642a-4672-b2c2-c556a25661b3",
        "colab": {
          "base_uri": "https://localhost:8080/",
          "height": 254
        }
      },
      "cell_type": "code",
      "source": [
        "print(\"Creating {0} CNNs...\".format(nets))\n",
        "for model in range(nets):\n",
        "    digits[model] = baseline_model()\n",
        "    \n",
        "    # Splitting train and test datasets\n",
        "    \n",
        "    X_train_aux, X_test_aux, y_train_aux, y_test_aux = train_test_split(X_train, y_train, test_size = 0.1)\n",
        "    \n",
        "    history[model] = digits[model].fit_generator(generator.flow(X_train_aux,\n",
        "                                                              y_train_aux, \n",
        "                                                              batch_size = batch_size),\n",
        "                                                 epochs = epochs, \n",
        "                                                 steps_per_epoch = X_train_aux.shape[0] // batch_size, \n",
        "                                                 validation_data = (X_test_aux, y_test_aux), \n",
        "                                                 callbacks=[lr_reduction],\n",
        "                                                 verbose=0)\n",
        "    \n",
        "    print(\"CNN {0:>2d}: Epochs = {1:d}, Train accuracy = {2:.5f}, Validation accuracy = {3:.5f}\".format(\n",
        "        model + 1, # Number of the CNN\n",
        "        epochs, # Total of epochs\n",
        "        max(history[model].history['acc']), # Maximum Accuracy from Training\n",
        "        max(history[model].history['val_acc']))) # Maximum Accuracy from Test (validation)"
      ],
      "execution_count": 3,
      "outputs": [
        {
          "output_type": "stream",
          "text": [
            "Creating 10 CNNs...\n"
          ],
          "name": "stdout"
        },
        {
          "output_type": "error",
          "ename": "NameError",
          "evalue": "ignored",
          "traceback": [
            "\u001b[0;31m---------------------------------------------------------------------------\u001b[0m",
            "\u001b[0;31mNameError\u001b[0m                                 Traceback (most recent call last)",
            "\u001b[0;32m<ipython-input-3-f448ccc99428>\u001b[0m in \u001b[0;36m<module>\u001b[0;34m()\u001b[0m\n\u001b[1;32m      1\u001b[0m \u001b[0mprint\u001b[0m\u001b[0;34m(\u001b[0m\u001b[0;34m\"Creating {0} CNNs...\"\u001b[0m\u001b[0;34m.\u001b[0m\u001b[0mformat\u001b[0m\u001b[0;34m(\u001b[0m\u001b[0mnets\u001b[0m\u001b[0;34m)\u001b[0m\u001b[0;34m)\u001b[0m\u001b[0;34m\u001b[0m\u001b[0m\n\u001b[1;32m      2\u001b[0m \u001b[0;32mfor\u001b[0m \u001b[0mmodel\u001b[0m \u001b[0;32min\u001b[0m \u001b[0mrange\u001b[0m\u001b[0;34m(\u001b[0m\u001b[0mnets\u001b[0m\u001b[0;34m)\u001b[0m\u001b[0;34m:\u001b[0m\u001b[0;34m\u001b[0m\u001b[0m\n\u001b[0;32m----> 3\u001b[0;31m     \u001b[0mdigits\u001b[0m\u001b[0;34m[\u001b[0m\u001b[0mmodel\u001b[0m\u001b[0;34m]\u001b[0m \u001b[0;34m=\u001b[0m \u001b[0mbaseline_model\u001b[0m\u001b[0;34m(\u001b[0m\u001b[0;34m)\u001b[0m\u001b[0;34m\u001b[0m\u001b[0m\n\u001b[0m\u001b[1;32m      4\u001b[0m \u001b[0;34m\u001b[0m\u001b[0m\n\u001b[1;32m      5\u001b[0m     \u001b[0;31m# Splitting train and test datasets\u001b[0m\u001b[0;34m\u001b[0m\u001b[0;34m\u001b[0m\u001b[0m\n",
            "\u001b[0;31mNameError\u001b[0m: name 'baseline_model' is not defined"
          ]
        }
      ]
    },
    {
      "metadata": {
        "colab_type": "text",
        "id": "-L5IBZyiHM9O"
      },
      "cell_type": "markdown",
      "source": [
        "### Getting the predictions with more probabilities to be correct"
      ]
    },
    {
      "metadata": {
        "colab_type": "code",
        "id": "PecSo_dfHM9S",
        "colab": {}
      },
      "cell_type": "code",
      "source": [
        "label_predicted = np.zeros( (X_test.shape[0], 10) ) \n",
        "\n",
        "for model in range(nets):\n",
        "    label_predicted = label_predicted + digits[model].predict(X_test)\n",
        "    \n",
        "# Get the index with the maximum probability\n",
        "\n",
        "label_predicted = np.argmax(label_predicted, axis = 1)\n",
        "label_predicted = pd.Series(label_predicted, name = \"Label\")"
      ],
      "execution_count": 0,
      "outputs": []
    },
    {
      "metadata": {
        "colab_type": "code",
        "id": "xparMvpNHM9e",
        "colab": {}
      },
      "cell_type": "code",
      "source": [
        "solution = pd.concat([pd.Series(range(1, 28001), name = \"ImageId\"), label_predicted], axis = 1)\n",
        "solution.to_csv(\"solution_cnn_v9.csv\", index=False)"
      ],
      "execution_count": 0,
      "outputs": []
    },
    {
      "metadata": {
        "colab_type": "code",
        "id": "J9mS0wkYHM9k",
        "outputId": "8076723c-8784-4d12-a743-6be47713c219",
        "colab": {
          "base_uri": "https://localhost:8080/",
          "height": 363
        }
      },
      "cell_type": "code",
      "source": [
        "solution.head(10)"
      ],
      "execution_count": 0,
      "outputs": [
        {
          "output_type": "execute_result",
          "data": {
            "text/html": [
              "<div>\n",
              "<style scoped>\n",
              "    .dataframe tbody tr th:only-of-type {\n",
              "        vertical-align: middle;\n",
              "    }\n",
              "\n",
              "    .dataframe tbody tr th {\n",
              "        vertical-align: top;\n",
              "    }\n",
              "\n",
              "    .dataframe thead th {\n",
              "        text-align: right;\n",
              "    }\n",
              "</style>\n",
              "<table border=\"1\" class=\"dataframe\">\n",
              "  <thead>\n",
              "    <tr style=\"text-align: right;\">\n",
              "      <th></th>\n",
              "      <th>ImageId</th>\n",
              "      <th>Label</th>\n",
              "    </tr>\n",
              "  </thead>\n",
              "  <tbody>\n",
              "    <tr>\n",
              "      <th>0</th>\n",
              "      <td>1</td>\n",
              "      <td>2</td>\n",
              "    </tr>\n",
              "    <tr>\n",
              "      <th>1</th>\n",
              "      <td>2</td>\n",
              "      <td>0</td>\n",
              "    </tr>\n",
              "    <tr>\n",
              "      <th>2</th>\n",
              "      <td>3</td>\n",
              "      <td>9</td>\n",
              "    </tr>\n",
              "    <tr>\n",
              "      <th>3</th>\n",
              "      <td>4</td>\n",
              "      <td>0</td>\n",
              "    </tr>\n",
              "    <tr>\n",
              "      <th>4</th>\n",
              "      <td>5</td>\n",
              "      <td>3</td>\n",
              "    </tr>\n",
              "    <tr>\n",
              "      <th>5</th>\n",
              "      <td>6</td>\n",
              "      <td>7</td>\n",
              "    </tr>\n",
              "    <tr>\n",
              "      <th>6</th>\n",
              "      <td>7</td>\n",
              "      <td>0</td>\n",
              "    </tr>\n",
              "    <tr>\n",
              "      <th>7</th>\n",
              "      <td>8</td>\n",
              "      <td>3</td>\n",
              "    </tr>\n",
              "    <tr>\n",
              "      <th>8</th>\n",
              "      <td>9</td>\n",
              "      <td>0</td>\n",
              "    </tr>\n",
              "    <tr>\n",
              "      <th>9</th>\n",
              "      <td>10</td>\n",
              "      <td>3</td>\n",
              "    </tr>\n",
              "  </tbody>\n",
              "</table>\n",
              "</div>"
            ],
            "text/plain": [
              "   ImageId  Label\n",
              "0        1      2\n",
              "1        2      0\n",
              "2        3      9\n",
              "3        4      0\n",
              "4        5      3\n",
              "5        6      7\n",
              "6        7      0\n",
              "7        8      3\n",
              "8        9      0\n",
              "9       10      3"
            ]
          },
          "metadata": {
            "tags": []
          },
          "execution_count": 32
        }
      ]
    },
    {
      "metadata": {
        "colab_type": "code",
        "id": "zNIl0kDa4AeA",
        "colab": {}
      },
      "cell_type": "code",
      "source": [
        "from google.colab import files\n",
        "files.download('solution_cnn_v9.csv')"
      ],
      "execution_count": 0,
      "outputs": []
    },
    {
      "metadata": {
        "colab_type": "text",
        "id": "e5s6JHRoHM9s"
      },
      "cell_type": "markdown",
      "source": [
        "### Saving and loading the models"
      ]
    },
    {
      "metadata": {
        "colab_type": "code",
        "id": "ZwYT9t_lHM9t",
        "colab": {}
      },
      "cell_type": "code",
      "source": [
        "for model in range(nets):\n",
        "    model_saved = digits[model].to_json()\n",
        "    name = 'model_' + str(model) + '.json'\n",
        "    with open(name, 'w') as json_file:\n",
        "        json_file.write(model_saved)\n",
        "    name = 'model_' + str(model) + '.h5'\n",
        "    digits[model].save_weights(name)"
      ],
      "execution_count": 0,
      "outputs": []
    },
    {
      "metadata": {
        "colab_type": "code",
        "id": "XMa8Sc0bHM9w",
        "colab": {}
      },
      "cell_type": "code",
      "source": [
        "model_loaded = [0] * nets\n",
        "for model in range(nets):\n",
        "    name = 'model_' + str(model) + '.json'\n",
        "    json_file = open(name, 'r')\n",
        "    loaded_model_json = json_file.read()\n",
        "    json_file.close()\n",
        "    model_loaded[model] = model_from_json(loaded_model_json)\n",
        "    name = 'model_' + str(model) + '.h5'\n",
        "    model_loaded[model].load_weights(name)"
      ],
      "execution_count": 0,
      "outputs": []
    },
    {
      "metadata": {
        "colab_type": "code",
        "id": "9yrGrqZTHM9x",
        "colab": {}
      },
      "cell_type": "code",
      "source": [
        ""
      ],
      "execution_count": 0,
      "outputs": []
    }
  ]
}